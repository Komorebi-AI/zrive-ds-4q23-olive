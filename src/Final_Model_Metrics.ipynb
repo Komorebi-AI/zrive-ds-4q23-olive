{
 "cells": [
  {
   "cell_type": "code",
   "execution_count": 50,
   "metadata": {},
   "outputs": [],
   "source": [
    "from train import *\n",
    "from processing import find_estado_with_value_two\n",
    "from sklearn.linear_model import LinearRegression, Ridge, Lasso\n",
    "from sklearn.preprocessing import StandardScaler\n",
    "from sklearn.pipeline import Pipeline\n",
    "from sklearn.metrics import mean_squared_error\n",
    "from sklearn.ensemble import RandomForestRegressor, RandomForestClassifier\n",
    "from sklearn import metrics\n",
    "import numpy as np\n",
    "import pandas as pd\n",
    "import xgboost as xgb\n",
    "import random\n",
    "import shap\n",
    "pd.set_option('display.max_columns', None)\n",
    "random.seed(10)\n"
   ]
  },
  {
   "cell_type": "code",
   "execution_count": 51,
   "metadata": {},
   "outputs": [],
   "source": [
    "df = build_dataset_with_features(categorical_features=False)\n"
   ]
  },
  {
   "cell_type": "code",
   "execution_count": 52,
   "metadata": {},
   "outputs": [],
   "source": [
    "train, val, test = train_test_val_split(df)\n",
    "x_test, y_test = split_into_x_y(test)\n",
    "x_val, y_val = split_into_x_y(val)"
   ]
  },
  {
   "cell_type": "code",
   "execution_count": 53,
   "metadata": {},
   "outputs": [],
   "source": [
    "def reduce_training_set(train_df, frac):\n",
    "    df_train_reduced = train_df.sample(frac= frac, random_state=42)\n",
    "    x_train, y_train = split_into_x_y(df_train_reduced)\n",
    "    return x_train, y_train\n",
    "\n",
    "def get_metrics_train_val(model, name, x_train, y_train, print_metrics=True):\n",
    "    y_pred_train = model.predict(x_train)\n",
    "    y_pred_val = model.predict(x_val)\n",
    "    \n",
    "    train_mse = round(mean_squared_error(y_train, y_pred_train), 2)\n",
    "    val_mse = round(mean_squared_error(y_val, y_pred_val), 2)\n",
    "    val_mse_discrete = round(mse_score_discrete(y_val, y_pred_val), 2)\n",
    "\n",
    "    if print_metrics:\n",
    "        print('Train MSE {}: {}'.format(name, train_mse))\n",
    "        print('Validation MSE {}: {}'.format(name, val_mse))\n",
    "        print('Validation MSE Discrete {}: {}'.format(name, val_mse_discrete))\n",
    "\n",
    "    return train_mse, val_mse, val_mse_discrete, model\n",
    "\n",
    "def run_random_forest_model(x_train, y_train,n_trees_grid):\n",
    "    metrics_dict = {}\n",
    "    for n_trees in n_trees_grid:\n",
    "        rf = RandomForestRegressor(n_estimators=n_trees)\n",
    "        rf.fit(x_train, y_train)\n",
    "        metrics_dict['Random Forest (n_trees = {n_trees})'] = get_metrics_train_val(rf,f\"Random Forest (n_trees = {n_trees})\", x_train, y_train)\n",
    "\n",
    "    return metrics_dict"
   ]
  },
  {
   "cell_type": "markdown",
   "metadata": {},
   "source": [
    "### Effects of reducing the dataset on the predictive power of the model"
   ]
  },
  {
   "cell_type": "code",
   "execution_count": 54,
   "metadata": {},
   "outputs": [
    {
     "name": "stdout",
     "output_type": "stream",
     "text": [
      "Train MSE Random Forest (n_trees = 5): 0.06\n",
      "Validation MSE Random Forest (n_trees = 5): 0.32\n",
      "Validation MSE Discrete Random Forest (n_trees = 5): 0.37\n",
      "Train MSE Random Forest (n_trees = 10): 0.04\n",
      "Validation MSE Random Forest (n_trees = 10): 0.28\n",
      "Validation MSE Discrete Random Forest (n_trees = 10): 0.36\n",
      "Train MSE Random Forest (n_trees = 25): 0.03\n",
      "Validation MSE Random Forest (n_trees = 25): 0.25\n",
      "Validation MSE Discrete Random Forest (n_trees = 25): 0.31\n",
      "Train MSE Random Forest (n_trees = 50): 0.03\n",
      "Validation MSE Random Forest (n_trees = 50): 0.25\n",
      "Validation MSE Discrete Random Forest (n_trees = 50): 0.32\n",
      "Train MSE Random Forest (n_trees = 100): 0.03\n",
      "Validation MSE Random Forest (n_trees = 100): 0.25\n",
      "Validation MSE Discrete Random Forest (n_trees = 100): 0.32\n"
     ]
    },
    {
     "data": {
      "text/plain": [
       "{'Random Forest (n_trees = {n_trees})': (0.03,\n",
       "  0.25,\n",
       "  0.32,\n",
       "  RandomForestRegressor())}"
      ]
     },
     "execution_count": 54,
     "metadata": {},
     "output_type": "execute_result"
    }
   ],
   "source": [
    "n_trees_grid = [5,10,25,50,100]\n",
    "\n",
    "x_train, y_train = reduce_training_set(train, 0.25)\n",
    "\n",
    "run_random_forest_model(x_train, y_train, n_trees_grid)\n"
   ]
  },
  {
   "cell_type": "code",
   "execution_count": 55,
   "metadata": {},
   "outputs": [
    {
     "name": "stdout",
     "output_type": "stream",
     "text": [
      "Train MSE Random Forest (n_trees = 5): 0.05\n",
      "Validation MSE Random Forest (n_trees = 5): 0.3\n",
      "Validation MSE Discrete Random Forest (n_trees = 5): 0.36\n",
      "Train MSE Random Forest (n_trees = 10): 0.04\n",
      "Validation MSE Random Forest (n_trees = 10): 0.27\n",
      "Validation MSE Discrete Random Forest (n_trees = 10): 0.34\n",
      "Train MSE Random Forest (n_trees = 25): 0.03\n",
      "Validation MSE Random Forest (n_trees = 25): 0.25\n",
      "Validation MSE Discrete Random Forest (n_trees = 25): 0.31\n",
      "Train MSE Random Forest (n_trees = 50): 0.03\n",
      "Validation MSE Random Forest (n_trees = 50): 0.24\n",
      "Validation MSE Discrete Random Forest (n_trees = 50): 0.31\n"
     ]
    },
    {
     "data": {
      "text/plain": [
       "{'Random Forest (n_trees = {n_trees})': (0.03,\n",
       "  0.24,\n",
       "  0.31,\n",
       "  RandomForestRegressor(n_estimators=50))}"
      ]
     },
     "execution_count": 55,
     "metadata": {},
     "output_type": "execute_result"
    }
   ],
   "source": [
    "n_trees_grid = [5,10,25,50]\n",
    "\n",
    "x_train, y_train = reduce_training_set(train, 0.5)\n",
    "\n",
    "run_random_forest_model(x_train, y_train, n_trees_grid)\n"
   ]
  },
  {
   "cell_type": "markdown",
   "metadata": {},
   "source": [
    "### Metrics for the best performing model"
   ]
  },
  {
   "cell_type": "code",
   "execution_count": 56,
   "metadata": {},
   "outputs": [],
   "source": [
    "n_trees_grid = [5,10,25,50]\n",
    "\n",
    "x_train, y_train = reduce_training_set(train, 0.5)\n",
    "\n",
    "rf = RandomForestRegressor(n_estimators=50).fit(x_train, y_train)"
   ]
  },
  {
   "cell_type": "code",
   "execution_count": 57,
   "metadata": {},
   "outputs": [],
   "source": [
    "y_pred = rf.predict(x_val)"
   ]
  },
  {
   "cell_type": "code",
   "execution_count": 59,
   "metadata": {},
   "outputs": [],
   "source": [
    "x_val[\"estado_actual\"] = x_val[estados].apply(find_estado_with_value_two, axis=1)\n",
    "train[\"estado_actual\"] = train[estados].apply(find_estado_with_value_two, axis=1)\n",
    "x_train[\"estado_actual\"] = x_train[estados].apply(find_estado_with_value_two, axis=1)\n",
    "\n",
    "mode_dict = train.groupby('estado_actual')['next_y'].apply(lambda x: x.mode().iloc[0]).to_dict()\n",
    "y_pred_baseline = x_val['estado_actual'].map(mode_dict)\n",
    "y_pred_baseline_train = x_train['estado_actual'].map(mode_dict)"
   ]
  },
  {
   "cell_type": "code",
   "execution_count": 60,
   "metadata": {},
   "outputs": [
    {
     "name": "stdout",
     "output_type": "stream",
     "text": [
      "Train MSE baseline: 0.41027347128884156\n",
      "Validation MSE baseline: 0.3912575494827483\n",
      "Validation MSE discrete baseline: 0.3912575494827483\n"
     ]
    }
   ],
   "source": [
    "print('Train MSE baseline: {}'.format(metrics.mean_squared_error(y_train, y_pred_baseline_train)))\n",
    "print('Validation MSE baseline: {}'.format(metrics.mean_squared_error(y_val, y_pred_baseline)))\n",
    "print('Validation MSE discrete baseline: {}'.format(mse_score_discrete(y_val, y_pred_baseline)))"
   ]
  },
  {
   "cell_type": "code",
   "execution_count": 61,
   "metadata": {},
   "outputs": [
    {
     "ename": "ValueError",
     "evalue": "array length 16723 does not match index length 24890",
     "output_type": "error",
     "traceback": [
      "\u001b[0;31m---------------------------------------------------------------------------\u001b[0m",
      "\u001b[0;31mValueError\u001b[0m                                Traceback (most recent call last)",
      "Cell \u001b[0;32mIn[61], line 12\u001b[0m\n\u001b[1;32m      8\u001b[0m             y_pred_rounded\u001b[38;5;241m.\u001b[39mappend(\u001b[38;5;28mmax\u001b[39m(\u001b[38;5;241m0\u001b[39m, math\u001b[38;5;241m.\u001b[39mceil(pred)))\n\u001b[1;32m     10\u001b[0m     \u001b[38;5;28;01mreturn\u001b[39;00m pd\u001b[38;5;241m.\u001b[39mDataFrame({\u001b[38;5;124m'\u001b[39m\u001b[38;5;124my_pred\u001b[39m\u001b[38;5;124m'\u001b[39m: y_pred_rounded, \u001b[38;5;124m'\u001b[39m\u001b[38;5;124my_test\u001b[39m\u001b[38;5;124m'\u001b[39m: y_test, \u001b[38;5;124m'\u001b[39m\u001b[38;5;124my_val_baseline\u001b[39m\u001b[38;5;124m'\u001b[39m: y_pred_baseline})\n\u001b[0;32m---> 12\u001b[0m df_metrics_val \u001b[38;5;241m=\u001b[39m \u001b[43mdf_both_metrics\u001b[49m\u001b[43m(\u001b[49m\u001b[43my_pred\u001b[49m\u001b[43m,\u001b[49m\u001b[43m \u001b[49m\u001b[43my_test\u001b[49m\u001b[43m)\u001b[49m\n\u001b[1;32m     13\u001b[0m df_metrics_val\n",
      "Cell \u001b[0;32mIn[61], line 10\u001b[0m, in \u001b[0;36mdf_both_metrics\u001b[0;34m(y_pred, y_test)\u001b[0m\n\u001b[1;32m      7\u001b[0m     \u001b[38;5;28;01melse\u001b[39;00m:\n\u001b[1;32m      8\u001b[0m         y_pred_rounded\u001b[38;5;241m.\u001b[39mappend(\u001b[38;5;28mmax\u001b[39m(\u001b[38;5;241m0\u001b[39m, math\u001b[38;5;241m.\u001b[39mceil(pred)))\n\u001b[0;32m---> 10\u001b[0m \u001b[38;5;28;01mreturn\u001b[39;00m \u001b[43mpd\u001b[49m\u001b[38;5;241;43m.\u001b[39;49m\u001b[43mDataFrame\u001b[49m\u001b[43m(\u001b[49m\u001b[43m{\u001b[49m\u001b[38;5;124;43m'\u001b[39;49m\u001b[38;5;124;43my_pred\u001b[39;49m\u001b[38;5;124;43m'\u001b[39;49m\u001b[43m:\u001b[49m\u001b[43m \u001b[49m\u001b[43my_pred_rounded\u001b[49m\u001b[43m,\u001b[49m\u001b[43m \u001b[49m\u001b[38;5;124;43m'\u001b[39;49m\u001b[38;5;124;43my_test\u001b[39;49m\u001b[38;5;124;43m'\u001b[39;49m\u001b[43m:\u001b[49m\u001b[43m \u001b[49m\u001b[43my_test\u001b[49m\u001b[43m,\u001b[49m\u001b[43m \u001b[49m\u001b[38;5;124;43m'\u001b[39;49m\u001b[38;5;124;43my_val_baseline\u001b[39;49m\u001b[38;5;124;43m'\u001b[39;49m\u001b[43m:\u001b[49m\u001b[43m \u001b[49m\u001b[43my_pred_baseline\u001b[49m\u001b[43m}\u001b[49m\u001b[43m)\u001b[49m\n",
      "File \u001b[0;32m~/Library/Caches/pypoetry/virtualenvs/zrive-ds-vu5mmrLb-py3.11/lib/python3.11/site-packages/pandas/core/frame.py:733\u001b[0m, in \u001b[0;36mDataFrame.__init__\u001b[0;34m(self, data, index, columns, dtype, copy)\u001b[0m\n\u001b[1;32m    727\u001b[0m     mgr \u001b[38;5;241m=\u001b[39m \u001b[38;5;28mself\u001b[39m\u001b[38;5;241m.\u001b[39m_init_mgr(\n\u001b[1;32m    728\u001b[0m         data, axes\u001b[38;5;241m=\u001b[39m{\u001b[38;5;124m\"\u001b[39m\u001b[38;5;124mindex\u001b[39m\u001b[38;5;124m\"\u001b[39m: index, \u001b[38;5;124m\"\u001b[39m\u001b[38;5;124mcolumns\u001b[39m\u001b[38;5;124m\"\u001b[39m: columns}, dtype\u001b[38;5;241m=\u001b[39mdtype, copy\u001b[38;5;241m=\u001b[39mcopy\n\u001b[1;32m    729\u001b[0m     )\n\u001b[1;32m    731\u001b[0m \u001b[38;5;28;01melif\u001b[39;00m \u001b[38;5;28misinstance\u001b[39m(data, \u001b[38;5;28mdict\u001b[39m):\n\u001b[1;32m    732\u001b[0m     \u001b[38;5;66;03m# GH#38939 de facto copy defaults to False only in non-dict cases\u001b[39;00m\n\u001b[0;32m--> 733\u001b[0m     mgr \u001b[38;5;241m=\u001b[39m \u001b[43mdict_to_mgr\u001b[49m\u001b[43m(\u001b[49m\u001b[43mdata\u001b[49m\u001b[43m,\u001b[49m\u001b[43m \u001b[49m\u001b[43mindex\u001b[49m\u001b[43m,\u001b[49m\u001b[43m \u001b[49m\u001b[43mcolumns\u001b[49m\u001b[43m,\u001b[49m\u001b[43m \u001b[49m\u001b[43mdtype\u001b[49m\u001b[38;5;241;43m=\u001b[39;49m\u001b[43mdtype\u001b[49m\u001b[43m,\u001b[49m\u001b[43m \u001b[49m\u001b[43mcopy\u001b[49m\u001b[38;5;241;43m=\u001b[39;49m\u001b[43mcopy\u001b[49m\u001b[43m,\u001b[49m\u001b[43m \u001b[49m\u001b[43mtyp\u001b[49m\u001b[38;5;241;43m=\u001b[39;49m\u001b[43mmanager\u001b[49m\u001b[43m)\u001b[49m\n\u001b[1;32m    734\u001b[0m \u001b[38;5;28;01melif\u001b[39;00m \u001b[38;5;28misinstance\u001b[39m(data, ma\u001b[38;5;241m.\u001b[39mMaskedArray):\n\u001b[1;32m    735\u001b[0m     \u001b[38;5;28;01mfrom\u001b[39;00m \u001b[38;5;21;01mnumpy\u001b[39;00m\u001b[38;5;21;01m.\u001b[39;00m\u001b[38;5;21;01mma\u001b[39;00m \u001b[38;5;28;01mimport\u001b[39;00m mrecords\n",
      "File \u001b[0;32m~/Library/Caches/pypoetry/virtualenvs/zrive-ds-vu5mmrLb-py3.11/lib/python3.11/site-packages/pandas/core/internals/construction.py:503\u001b[0m, in \u001b[0;36mdict_to_mgr\u001b[0;34m(data, index, columns, dtype, typ, copy)\u001b[0m\n\u001b[1;32m    499\u001b[0m     \u001b[38;5;28;01melse\u001b[39;00m:\n\u001b[1;32m    500\u001b[0m         \u001b[38;5;66;03m# dtype check to exclude e.g. range objects, scalars\u001b[39;00m\n\u001b[1;32m    501\u001b[0m         arrays \u001b[38;5;241m=\u001b[39m [x\u001b[38;5;241m.\u001b[39mcopy() \u001b[38;5;28;01mif\u001b[39;00m \u001b[38;5;28mhasattr\u001b[39m(x, \u001b[38;5;124m\"\u001b[39m\u001b[38;5;124mdtype\u001b[39m\u001b[38;5;124m\"\u001b[39m) \u001b[38;5;28;01melse\u001b[39;00m x \u001b[38;5;28;01mfor\u001b[39;00m x \u001b[38;5;129;01min\u001b[39;00m arrays]\n\u001b[0;32m--> 503\u001b[0m \u001b[38;5;28;01mreturn\u001b[39;00m \u001b[43marrays_to_mgr\u001b[49m\u001b[43m(\u001b[49m\u001b[43marrays\u001b[49m\u001b[43m,\u001b[49m\u001b[43m \u001b[49m\u001b[43mcolumns\u001b[49m\u001b[43m,\u001b[49m\u001b[43m \u001b[49m\u001b[43mindex\u001b[49m\u001b[43m,\u001b[49m\u001b[43m \u001b[49m\u001b[43mdtype\u001b[49m\u001b[38;5;241;43m=\u001b[39;49m\u001b[43mdtype\u001b[49m\u001b[43m,\u001b[49m\u001b[43m \u001b[49m\u001b[43mtyp\u001b[49m\u001b[38;5;241;43m=\u001b[39;49m\u001b[43mtyp\u001b[49m\u001b[43m,\u001b[49m\u001b[43m \u001b[49m\u001b[43mconsolidate\u001b[49m\u001b[38;5;241;43m=\u001b[39;49m\u001b[43mcopy\u001b[49m\u001b[43m)\u001b[49m\n",
      "File \u001b[0;32m~/Library/Caches/pypoetry/virtualenvs/zrive-ds-vu5mmrLb-py3.11/lib/python3.11/site-packages/pandas/core/internals/construction.py:114\u001b[0m, in \u001b[0;36marrays_to_mgr\u001b[0;34m(arrays, columns, index, dtype, verify_integrity, typ, consolidate)\u001b[0m\n\u001b[1;32m    111\u001b[0m \u001b[38;5;28;01mif\u001b[39;00m verify_integrity:\n\u001b[1;32m    112\u001b[0m     \u001b[38;5;66;03m# figure out the index, if necessary\u001b[39;00m\n\u001b[1;32m    113\u001b[0m     \u001b[38;5;28;01mif\u001b[39;00m index \u001b[38;5;129;01mis\u001b[39;00m \u001b[38;5;28;01mNone\u001b[39;00m:\n\u001b[0;32m--> 114\u001b[0m         index \u001b[38;5;241m=\u001b[39m \u001b[43m_extract_index\u001b[49m\u001b[43m(\u001b[49m\u001b[43marrays\u001b[49m\u001b[43m)\u001b[49m\n\u001b[1;32m    115\u001b[0m     \u001b[38;5;28;01melse\u001b[39;00m:\n\u001b[1;32m    116\u001b[0m         index \u001b[38;5;241m=\u001b[39m ensure_index(index)\n",
      "File \u001b[0;32m~/Library/Caches/pypoetry/virtualenvs/zrive-ds-vu5mmrLb-py3.11/lib/python3.11/site-packages/pandas/core/internals/construction.py:690\u001b[0m, in \u001b[0;36m_extract_index\u001b[0;34m(data)\u001b[0m\n\u001b[1;32m    685\u001b[0m     \u001b[38;5;28;01mif\u001b[39;00m lengths[\u001b[38;5;241m0\u001b[39m] \u001b[38;5;241m!=\u001b[39m \u001b[38;5;28mlen\u001b[39m(index):\n\u001b[1;32m    686\u001b[0m         msg \u001b[38;5;241m=\u001b[39m (\n\u001b[1;32m    687\u001b[0m             \u001b[38;5;124mf\u001b[39m\u001b[38;5;124m\"\u001b[39m\u001b[38;5;124marray length \u001b[39m\u001b[38;5;132;01m{\u001b[39;00mlengths[\u001b[38;5;241m0\u001b[39m]\u001b[38;5;132;01m}\u001b[39;00m\u001b[38;5;124m does not match index \u001b[39m\u001b[38;5;124m\"\u001b[39m\n\u001b[1;32m    688\u001b[0m             \u001b[38;5;124mf\u001b[39m\u001b[38;5;124m\"\u001b[39m\u001b[38;5;124mlength \u001b[39m\u001b[38;5;132;01m{\u001b[39;00m\u001b[38;5;28mlen\u001b[39m(index)\u001b[38;5;132;01m}\u001b[39;00m\u001b[38;5;124m\"\u001b[39m\n\u001b[1;32m    689\u001b[0m         )\n\u001b[0;32m--> 690\u001b[0m         \u001b[38;5;28;01mraise\u001b[39;00m \u001b[38;5;167;01mValueError\u001b[39;00m(msg)\n\u001b[1;32m    691\u001b[0m \u001b[38;5;28;01melse\u001b[39;00m:\n\u001b[1;32m    692\u001b[0m     index \u001b[38;5;241m=\u001b[39m default_index(lengths[\u001b[38;5;241m0\u001b[39m])\n",
      "\u001b[0;31mValueError\u001b[0m: array length 16723 does not match index length 24890"
     ]
    }
   ],
   "source": [
    "def df_both_metrics(y_pred, y_test):\n",
    "    y_pred_rounded = []\n",
    "\n",
    "    for pred in y_pred:\n",
    "        if pred - int(pred) < 0.5:\n",
    "            y_pred_rounded.append(max(0, math.floor(pred)))\n",
    "        else:\n",
    "            y_pred_rounded.append(max(0, math.ceil(pred)))\n",
    "    \n",
    "    return pd.DataFrame({'y_pred': y_pred_rounded, 'y_test': y_test, 'y_val_baseline': y_pred_baseline})\n",
    "                        \n",
    "df_metrics_val = df_both_metrics(y_pred, y_test)\n",
    "df_metrics_val"
   ]
  },
  {
   "cell_type": "code",
   "execution_count": null,
   "metadata": {},
   "outputs": [
    {
     "name": "stderr",
     "output_type": "stream",
     "text": [
      "The behavior of DataFrame concatenation with empty or all-NA entries is deprecated. In a future version, this will no longer exclude empty or all-NA columns when determining the result dtypes. To retain the old behavior, exclude the relevant entries before the concat operation.\n"
     ]
    },
    {
     "data": {
      "text/html": [
       "<div>\n",
       "<style scoped>\n",
       "    .dataframe tbody tr th:only-of-type {\n",
       "        vertical-align: middle;\n",
       "    }\n",
       "\n",
       "    .dataframe tbody tr th {\n",
       "        vertical-align: top;\n",
       "    }\n",
       "\n",
       "    .dataframe thead th {\n",
       "        text-align: right;\n",
       "    }\n",
       "</style>\n",
       "<table border=\"1\" class=\"dataframe\">\n",
       "  <thead>\n",
       "    <tr style=\"text-align: right;\">\n",
       "      <th></th>\n",
       "      <th>Y(t+1)</th>\n",
       "      <th>MSE_Model</th>\n",
       "      <th>Accuracy_Model</th>\n",
       "      <th>MSE_Baseline</th>\n",
       "      <th>Accuracy_Baseline</th>\n",
       "    </tr>\n",
       "  </thead>\n",
       "  <tbody>\n",
       "    <tr>\n",
       "      <th>0</th>\n",
       "      <td>0.0</td>\n",
       "      <td>0.22</td>\n",
       "      <td>0.82</td>\n",
       "      <td>0.20</td>\n",
       "      <td>0.86</td>\n",
       "    </tr>\n",
       "    <tr>\n",
       "      <th>1</th>\n",
       "      <td>1.0</td>\n",
       "      <td>0.36</td>\n",
       "      <td>0.64</td>\n",
       "      <td>0.63</td>\n",
       "      <td>0.37</td>\n",
       "    </tr>\n",
       "    <tr>\n",
       "      <th>2</th>\n",
       "      <td>2.0</td>\n",
       "      <td>0.31</td>\n",
       "      <td>0.72</td>\n",
       "      <td>0.31</td>\n",
       "      <td>0.77</td>\n",
       "    </tr>\n",
       "    <tr>\n",
       "      <th>3</th>\n",
       "      <td>3.0</td>\n",
       "      <td>1.28</td>\n",
       "      <td>0.03</td>\n",
       "      <td>1.70</td>\n",
       "      <td>0.00</td>\n",
       "    </tr>\n",
       "    <tr>\n",
       "      <th>4</th>\n",
       "      <td>4.0</td>\n",
       "      <td>4.62</td>\n",
       "      <td>0.00</td>\n",
       "      <td>6.18</td>\n",
       "      <td>0.00</td>\n",
       "    </tr>\n",
       "  </tbody>\n",
       "</table>\n",
       "</div>"
      ],
      "text/plain": [
       "   Y(t+1)  MSE_Model  Accuracy_Model  MSE_Baseline  Accuracy_Baseline\n",
       "0     0.0       0.22            0.82          0.20               0.86\n",
       "1     1.0       0.36            0.64          0.63               0.37\n",
       "2     2.0       0.31            0.72          0.31               0.77\n",
       "3     3.0       1.28            0.03          1.70               0.00\n",
       "4     4.0       4.62            0.00          6.18               0.00"
      ]
     },
     "execution_count": 48,
     "metadata": {},
     "output_type": "execute_result"
    }
   ],
   "source": [
    "from sklearn.metrics import mean_squared_error, accuracy_score\n",
    "\n",
    "def get_metrics_y_relative(df):\n",
    "    metrics_df = pd.DataFrame(columns=['Y(t+1)', 'MSE_Model', 'Accuracy_Model', 'MSE_Baseline', 'Accuracy_Baseline'])\n",
    "\n",
    "    for class_label in sorted(df['y_test'].unique()):\n",
    "        df_class = df[df['y_test'] == class_label]\n",
    "\n",
    "        mse_actual = mean_squared_error(df_class['y_test'], df_class['y_pred'])\n",
    "        accuracy_actual = accuracy_score(df_class['y_test'], df_class['y_pred'])\n",
    "\n",
    "        mse_baseline = mean_squared_error(df_class['y_test'], df_class['y_val_baseline'])\n",
    "        accuracy_baseline = accuracy_score(df_class['y_test'], df_class['y_val_baseline'])\n",
    "\n",
    "        metrics_df = pd.concat([metrics_df, pd.DataFrame({\n",
    "            'Y(t+1)': [class_label],\n",
    "            'MSE_Model': [mse_actual],\n",
    "            'Accuracy_Model': [accuracy_actual],\n",
    "            'MSE_Baseline': [mse_baseline],\n",
    "            'Accuracy_Baseline': [accuracy_baseline]\n",
    "        })])\n",
    "\n",
    "    return metrics_df.reset_index(drop=True).round(2)\n",
    "\n",
    "# Example usage:\n",
    "metrics_df_relative = get_metrics_y_relative(df_metrics_val)\n",
    "metrics_df_relative\n"
   ]
  },
  {
   "cell_type": "code",
   "execution_count": null,
   "metadata": {},
   "outputs": [
    {
     "name": "stderr",
     "output_type": "stream",
     "text": [
      "The behavior of DataFrame concatenation with empty or all-NA entries is deprecated. In a future version, this will no longer exclude empty or all-NA columns when determining the result dtypes. To retain the old behavior, exclude the relevant entries before the concat operation.\n"
     ]
    },
    {
     "data": {
      "text/html": [
       "<div>\n",
       "<style scoped>\n",
       "    .dataframe tbody tr th:only-of-type {\n",
       "        vertical-align: middle;\n",
       "    }\n",
       "\n",
       "    .dataframe tbody tr th {\n",
       "        vertical-align: top;\n",
       "    }\n",
       "\n",
       "    .dataframe thead th {\n",
       "        text-align: right;\n",
       "    }\n",
       "</style>\n",
       "<table border=\"1\" class=\"dataframe\">\n",
       "  <thead>\n",
       "    <tr style=\"text-align: right;\">\n",
       "      <th></th>\n",
       "      <th>Estado</th>\n",
       "      <th>MSE_Actual</th>\n",
       "      <th>Accuracy_Actual</th>\n",
       "      <th>MSE_Baseline</th>\n",
       "      <th>Accuracy_Baseline</th>\n",
       "      <th>Sample_Size</th>\n",
       "    </tr>\n",
       "  </thead>\n",
       "  <tbody>\n",
       "    <tr>\n",
       "      <th>0</th>\n",
       "      <td>1</td>\n",
       "      <td>0.40</td>\n",
       "      <td>0.61</td>\n",
       "      <td>0.39</td>\n",
       "      <td>0.62</td>\n",
       "      <td>237</td>\n",
       "    </tr>\n",
       "    <tr>\n",
       "      <th>1</th>\n",
       "      <td>2</td>\n",
       "      <td>0.58</td>\n",
       "      <td>0.54</td>\n",
       "      <td>0.72</td>\n",
       "      <td>0.50</td>\n",
       "      <td>709</td>\n",
       "    </tr>\n",
       "    <tr>\n",
       "      <th>2</th>\n",
       "      <td>3</td>\n",
       "      <td>0.54</td>\n",
       "      <td>0.53</td>\n",
       "      <td>0.70</td>\n",
       "      <td>0.53</td>\n",
       "      <td>763</td>\n",
       "    </tr>\n",
       "    <tr>\n",
       "      <th>3</th>\n",
       "      <td>4</td>\n",
       "      <td>0.77</td>\n",
       "      <td>0.45</td>\n",
       "      <td>0.93</td>\n",
       "      <td>0.36</td>\n",
       "      <td>781</td>\n",
       "    </tr>\n",
       "    <tr>\n",
       "      <th>4</th>\n",
       "      <td>5</td>\n",
       "      <td>0.79</td>\n",
       "      <td>0.39</td>\n",
       "      <td>0.85</td>\n",
       "      <td>0.40</td>\n",
       "      <td>786</td>\n",
       "    </tr>\n",
       "    <tr>\n",
       "      <th>5</th>\n",
       "      <td>6</td>\n",
       "      <td>0.63</td>\n",
       "      <td>0.48</td>\n",
       "      <td>0.75</td>\n",
       "      <td>0.45</td>\n",
       "      <td>842</td>\n",
       "    </tr>\n",
       "    <tr>\n",
       "      <th>6</th>\n",
       "      <td>7</td>\n",
       "      <td>0.40</td>\n",
       "      <td>0.62</td>\n",
       "      <td>0.43</td>\n",
       "      <td>0.64</td>\n",
       "      <td>798</td>\n",
       "    </tr>\n",
       "    <tr>\n",
       "      <th>7</th>\n",
       "      <td>8</td>\n",
       "      <td>0.05</td>\n",
       "      <td>0.95</td>\n",
       "      <td>0.05</td>\n",
       "      <td>0.95</td>\n",
       "      <td>719</td>\n",
       "    </tr>\n",
       "    <tr>\n",
       "      <th>8</th>\n",
       "      <td>9</td>\n",
       "      <td>0.26</td>\n",
       "      <td>0.74</td>\n",
       "      <td>0.38</td>\n",
       "      <td>0.62</td>\n",
       "      <td>2928</td>\n",
       "    </tr>\n",
       "    <tr>\n",
       "      <th>9</th>\n",
       "      <td>10</td>\n",
       "      <td>0.12</td>\n",
       "      <td>0.89</td>\n",
       "      <td>0.16</td>\n",
       "      <td>0.87</td>\n",
       "      <td>6941</td>\n",
       "    </tr>\n",
       "    <tr>\n",
       "      <th>10</th>\n",
       "      <td>11</td>\n",
       "      <td>0.44</td>\n",
       "      <td>0.57</td>\n",
       "      <td>0.71</td>\n",
       "      <td>0.29</td>\n",
       "      <td>1028</td>\n",
       "    </tr>\n",
       "    <tr>\n",
       "      <th>11</th>\n",
       "      <td>12</td>\n",
       "      <td>0.42</td>\n",
       "      <td>0.65</td>\n",
       "      <td>0.34</td>\n",
       "      <td>0.74</td>\n",
       "      <td>180</td>\n",
       "    </tr>\n",
       "    <tr>\n",
       "      <th>12</th>\n",
       "      <td>13</td>\n",
       "      <td>0.43</td>\n",
       "      <td>0.57</td>\n",
       "      <td>0.43</td>\n",
       "      <td>0.57</td>\n",
       "      <td>7</td>\n",
       "    </tr>\n",
       "    <tr>\n",
       "      <th>13</th>\n",
       "      <td>14</td>\n",
       "      <td>0.25</td>\n",
       "      <td>0.75</td>\n",
       "      <td>0.00</td>\n",
       "      <td>1.00</td>\n",
       "      <td>4</td>\n",
       "    </tr>\n",
       "  </tbody>\n",
       "</table>\n",
       "</div>"
      ],
      "text/plain": [
       "   Estado  MSE_Actual  Accuracy_Actual  MSE_Baseline  Accuracy_Baseline  \\\n",
       "0       1        0.40             0.61          0.39               0.62   \n",
       "1       2        0.58             0.54          0.72               0.50   \n",
       "2       3        0.54             0.53          0.70               0.53   \n",
       "3       4        0.77             0.45          0.93               0.36   \n",
       "4       5        0.79             0.39          0.85               0.40   \n",
       "5       6        0.63             0.48          0.75               0.45   \n",
       "6       7        0.40             0.62          0.43               0.64   \n",
       "7       8        0.05             0.95          0.05               0.95   \n",
       "8       9        0.26             0.74          0.38               0.62   \n",
       "9      10        0.12             0.89          0.16               0.87   \n",
       "10     11        0.44             0.57          0.71               0.29   \n",
       "11     12        0.42             0.65          0.34               0.74   \n",
       "12     13        0.43             0.57          0.43               0.57   \n",
       "13     14        0.25             0.75          0.00               1.00   \n",
       "\n",
       "    Sample_Size  \n",
       "0           237  \n",
       "1           709  \n",
       "2           763  \n",
       "3           781  \n",
       "4           786  \n",
       "5           842  \n",
       "6           798  \n",
       "7           719  \n",
       "8          2928  \n",
       "9          6941  \n",
       "10         1028  \n",
       "11          180  \n",
       "12            7  \n",
       "13            4  "
      ]
     },
     "execution_count": 47,
     "metadata": {},
     "output_type": "execute_result"
    }
   ],
   "source": [
    "df_metrics_val['estado_actual'] = x_val['estado_actual']\n",
    "\n",
    "def get_metrics_by_estado(df, baseline_predictions):\n",
    "    metrics_df = pd.DataFrame(columns=['Estado', 'MSE_Actual', 'Accuracy_Actual', 'MSE_Baseline', 'Accuracy_Baseline'])\n",
    "\n",
    "    for class_label in sorted(df['estado_actual'].unique()):\n",
    "        df_class = df[df['estado_actual'] == class_label]\n",
    "\n",
    "        mse_actual = mean_squared_error(df_class['y_test'], df_class['y_pred'])\n",
    "        accuracy_actual = accuracy_score(df_class['y_test'], df_class['y_pred'])\n",
    "\n",
    "        mse_baseline = mean_squared_error(df_class['y_test'], baseline_predictions[df_class.index])\n",
    "        accuracy_baseline = accuracy_score(df_class['y_test'], baseline_predictions[df_class.index])\n",
    "\n",
    "        metrics_df = pd.concat([metrics_df, pd.DataFrame({\n",
    "            'Estado': [class_label],\n",
    "            'MSE_Actual': [mse_actual],\n",
    "            'Accuracy_Actual': [accuracy_actual],\n",
    "            'MSE_Baseline': [mse_baseline],\n",
    "            'Accuracy_Baseline': [accuracy_baseline],\n",
    "        })])\n",
    "\n",
    "    return metrics_df.reset_index(drop=True).round(2)\n",
    "\n",
    "# Assuming df_metrics_val is your DataFrame with actual predictions and y_pred_baseline is the baseline prediction\n",
    "metrics_df_by_estado = get_metrics_by_estado(df_metrics_val, y_pred_baseline)\n",
    "estado_counts = x_val[\"estado_actual\"].value_counts()\n",
    "metrics_df_by_estado['Sample_Size'] = metrics_df_by_estado['Estado'].map(estado_counts)\n",
    "\n",
    "metrics_df_by_estado"
   ]
  }
 ],
 "metadata": {
  "kernelspec": {
   "display_name": "zrive-ds-vu5mmrLb-py3.11",
   "language": "python",
   "name": "python3"
  },
  "language_info": {
   "codemirror_mode": {
    "name": "ipython",
    "version": 3
   },
   "file_extension": ".py",
   "mimetype": "text/x-python",
   "name": "python",
   "nbconvert_exporter": "python",
   "pygments_lexer": "ipython3",
   "version": "3.11.5"
  }
 },
 "nbformat": 4,
 "nbformat_minor": 2
}
