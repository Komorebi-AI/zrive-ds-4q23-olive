{
 "cells": [
  {
   "cell_type": "code",
   "execution_count": 19,
   "metadata": {},
   "outputs": [],
   "source": [
    "import cdsapi\n",
    "import pandas as pd\n",
    "from datetime import datetime\n",
    "\n",
    "c = cdsapi.Client(url=\"https://cds.climate.copernicus.eu/api/v2\", key=\"267758:1fe9aae3-582c-46cb-8b06-2ee01e3247ac\")"
   ]
  },
  {
   "cell_type": "code",
   "execution_count": 20,
   "metadata": {},
   "outputs": [],
   "source": [
    "start_date = datetime.strptime(\"01-01-2016\", \"%d-%m-%Y\")\n",
    "end_date = datetime.strptime(\"01-01-2022\", \"%d-%m-%Y\")"
   ]
  },
  {
   "cell_type": "code",
   "execution_count": 22,
   "metadata": {},
   "outputs": [],
   "source": [
    "import datetime\n",
    "\n",
    "def get_days_of_month(month):\n",
    "    year = datetime.datetime.now().year\n",
    "    days = []\n",
    "    for day in range(1, 32):\n",
    "        try:\n",
    "            date = datetime.datetime.strptime(f\"{year}-{month}-{day:02}\", \"%Y-%m-%d\")\n",
    "            days.append(date.strftime(\"%d\"))\n",
    "        except ValueError:\n",
    "            break\n",
    "    return days\n",
    "\n",
    "\n",
    "years = [\"2006\", \"2007\", \"2008\", \"2009\", \"2010\", \"2011\", \"2012\", \"2013\", \"2014\", \"2015\", \"2021\"]\n",
    "\n",
    "months = [str(number).zfill(2) for number in range(1,13)]"
   ]
  },
  {
   "cell_type": "code",
   "execution_count": 23,
   "metadata": {},
   "outputs": [],
   "source": [
    "years.reverse()"
   ]
  },
  {
   "cell_type": "code",
   "execution_count": 25,
   "metadata": {},
   "outputs": [
    {
     "name": "stderr",
     "output_type": "stream",
     "text": [
      "2023-11-22 08:55:28,030 INFO Welcome to the CDS\n",
      "2023-11-22 08:55:28,032 INFO Sending request to https://cds.climate.copernicus.eu/api/v2/resources/reanalysis-era5-land\n",
      "2023-11-22 08:55:28,179 INFO Request is queued\n",
      "2023-11-22 08:56:17,978 INFO Request is running\n",
      "2023-11-22 09:01:46,948 INFO Request is completed\n",
      "2023-11-22 09:01:46,950 INFO Downloading https://download-0014-clone.copernicus-climate.eu/cache-compute-0014/cache/data4/adaptor.mars.internal-1700643701.7308626-23124-13-680a947c-567e-406a-9508-60f8975f182c.zip to SSM_LST_01_2021.zip (6M)\n",
      "2023-11-22 09:01:48,096 INFO Download rate 5.3M/s   \n",
      "2023-11-22 09:01:48,202 INFO Welcome to the CDS\n",
      "2023-11-22 09:01:48,203 INFO Sending request to https://cds.climate.copernicus.eu/api/v2/resources/reanalysis-era5-land\n",
      "2023-11-22 09:01:48,293 INFO Request is queued\n",
      "2023-11-22 09:03:42,133 INFO Request is running\n",
      "2023-11-22 09:10:07,293 INFO Request is completed\n",
      "2023-11-22 09:10:07,294 INFO Downloading https://download-0011-clone.copernicus-climate.eu/cache-compute-0011/cache/data5/adaptor.mars.internal-1700644110.8408065-6765-17-7e092c86-756a-455a-b2da-642528088cf6.zip to SSM_LST_02_2021.zip (5.4M)\n",
      "2023-11-22 09:10:08,489 INFO Download rate 4.6M/s   \n",
      "2023-11-22 09:10:08,593 INFO Welcome to the CDS\n",
      "2023-11-22 09:10:08,594 INFO Sending request to https://cds.climate.copernicus.eu/api/v2/resources/reanalysis-era5-land\n",
      "2023-11-22 09:10:08,677 INFO Request is queued\n"
     ]
    }
   ],
   "source": [
    "for year in years:\n",
    "    for month in months:\n",
    "\n",
    "        days_month = get_days_of_month(month)\n",
    "\n",
    "        c.retrieve(\n",
    "            'reanalysis-era5-land',\n",
    "            {\n",
    "                'variable': [\n",
    "                    'soil_temperature_level_1', 'total_precipitation', 'volumetric_soil_water_layer_1',\n",
    "                ],\n",
    "                'year': year,\n",
    "                'month': month,\n",
    "                'day': days_month,\n",
    "                'time': [\n",
    "                    '00:00', '01:00', '02:00',\n",
    "                    '03:00', '04:00', '05:00',\n",
    "                    '06:00', '07:00', '08:00',\n",
    "                    '09:00', '10:00', '11:00',\n",
    "                    '12:00', '13:00', '14:00',\n",
    "                    '15:00', '16:00', '17:00',\n",
    "                    '18:00', '19:00', '20:00',\n",
    "                    '21:00', '22:00', '23:00',\n",
    "                ],\n",
    "                'area': [\n",
    "                    39, -8, 35,\n",
    "                    -1,\n",
    "                ],\n",
    "                'format': 'netcdf.zip',\n",
    "            },\n",
    "            f'SSM_LST_{month}_{year}.zip')"
   ]
  }
 ],
 "metadata": {
  "kernelspec": {
   "display_name": "zrive-ds-e6lejYny-py3.11",
   "language": "python",
   "name": "python3"
  },
  "language_info": {
   "codemirror_mode": {
    "name": "ipython",
    "version": 3
   },
   "file_extension": ".py",
   "mimetype": "text/x-python",
   "name": "python",
   "nbconvert_exporter": "python",
   "pygments_lexer": "ipython3",
   "version": "3.11.0"
  }
 },
 "nbformat": 4,
 "nbformat_minor": 2
}
