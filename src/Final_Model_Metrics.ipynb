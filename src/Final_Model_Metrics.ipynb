{
 "cells": [
  {
   "cell_type": "code",
   "execution_count": 1,
   "metadata": {},
   "outputs": [
    {
     "name": "stderr",
     "output_type": "stream",
     "text": [
      "IProgress not found. Please update jupyter and ipywidgets. See https://ipywidgets.readthedocs.io/en/stable/user_install.html\n"
     ]
    }
   ],
   "source": [
    "from train import *\n",
    "from processing import find_estado_with_value_two\n",
    "from sklearn.linear_model import LinearRegression, Ridge, Lasso\n",
    "from sklearn.preprocessing import StandardScaler\n",
    "from sklearn.pipeline import Pipeline\n",
    "from sklearn.metrics import mean_squared_error\n",
    "from sklearn.ensemble import RandomForestRegressor, RandomForestClassifier\n",
    "from sklearn import metrics\n",
    "import numpy as np\n",
    "import pandas as pd\n",
    "import xgboost as xgb\n",
    "import random\n",
    "import shap\n",
    "pd.set_option('display.max_columns', None)\n",
    "random.seed(10)\n"
   ]
  },
  {
   "cell_type": "code",
   "execution_count": 2,
   "metadata": {},
   "outputs": [],
   "source": [
    "df = build_dataset_with_features(categorical_features=False)\n"
   ]
  },
  {
   "cell_type": "code",
   "execution_count": 3,
   "metadata": {},
   "outputs": [],
   "source": [
    "train, val, test = train_test_val_split(df)\n",
    "x_test, y_test = split_into_x_y(test)\n",
    "x_val, y_val = split_into_x_y(val)"
   ]
  },
  {
   "cell_type": "code",
   "execution_count": 4,
   "metadata": {},
   "outputs": [],
   "source": [
    "def reduce_training_set(train_df, frac):\n",
    "    df_train_reduced = train_df.sample(frac= frac, random_state=42)\n",
    "    x_train, y_train = split_into_x_y(df_train_reduced)\n",
    "    return x_train, y_train\n",
    "\n",
    "def get_metrics_train_val(model, name, x_train, y_train, print_metrics=True):\n",
    "    y_pred_train = model.predict(x_train)\n",
    "    y_pred_val = model.predict(x_val)\n",
    "    \n",
    "    train_mse = round(mean_squared_error(y_train, y_pred_train), 2)\n",
    "    val_mse = round(mean_squared_error(y_val, y_pred_val), 2)\n",
    "    val_mse_discrete = round(mse_score_discrete(y_val, y_pred_val), 2)\n",
    "\n",
    "    if print_metrics:\n",
    "        print('Train MSE {}: {}'.format(name, train_mse))\n",
    "        print('Validation MSE {}: {}'.format(name, val_mse))\n",
    "        print('Validation MSE Discrete {}: {}'.format(name, val_mse_discrete))\n",
    "\n",
    "    return train_mse, val_mse, val_mse_discrete, model\n",
    "\n",
    "def run_random_forest_model(x_train, y_train,n_trees_grid):\n",
    "    metrics_dict = {}\n",
    "    for n_trees in n_trees_grid:\n",
    "        rf = RandomForestRegressor(n_estimators=n_trees)\n",
    "        rf.fit(x_train, y_train)\n",
    "        metrics_dict['Random Forest (n_trees = {n_trees})'] = get_metrics_train_val(rf,f\"Random Forest (n_trees = {n_trees})\", x_train, y_train)\n",
    "\n",
    "    return metrics_dict"
   ]
  },
  {
   "cell_type": "code",
   "execution_count": null,
   "metadata": {},
   "outputs": [],
   "source": []
  },
  {
   "cell_type": "code",
   "execution_count": 5,
   "metadata": {},
   "outputs": [
    {
     "name": "stdout",
     "output_type": "stream",
     "text": [
      "Train MSE Random Forest (n_trees = 5): 0.06\n",
      "Validation MSE Random Forest (n_trees = 5): 0.3\n",
      "Validation MSE Discrete Random Forest (n_trees = 5): 0.37\n",
      "Train MSE Random Forest (n_trees = 10): 0.04\n",
      "Validation MSE Random Forest (n_trees = 10): 0.29\n",
      "Validation MSE Discrete Random Forest (n_trees = 10): 0.37\n",
      "Train MSE Random Forest (n_trees = 25): 0.03\n",
      "Validation MSE Random Forest (n_trees = 25): 0.26\n",
      "Validation MSE Discrete Random Forest (n_trees = 25): 0.32\n",
      "Train MSE Random Forest (n_trees = 50): 0.03\n",
      "Validation MSE Random Forest (n_trees = 50): 0.25\n",
      "Validation MSE Discrete Random Forest (n_trees = 50): 0.32\n",
      "Train MSE Random Forest (n_trees = 100): 0.03\n",
      "Validation MSE Random Forest (n_trees = 100): 0.25\n",
      "Validation MSE Discrete Random Forest (n_trees = 100): 0.31\n"
     ]
    },
    {
     "data": {
      "text/plain": [
       "{'Random Forest (n_trees = {n_trees})': (0.03,\n",
       "  0.25,\n",
       "  0.31,\n",
       "  RandomForestRegressor())}"
      ]
     },
     "execution_count": 5,
     "metadata": {},
     "output_type": "execute_result"
    }
   ],
   "source": [
    "n_trees_grid = [5,10,25,50,100]\n",
    "\n",
    "x_train, y_train = reduce_training_set(train, 0.25)\n",
    "\n",
    "run_random_forest_model(x_train, y_train, n_trees_grid)\n"
   ]
  },
  {
   "cell_type": "code",
   "execution_count": 6,
   "metadata": {},
   "outputs": [
    {
     "name": "stdout",
     "output_type": "stream",
     "text": [
      "Train MSE Random Forest (n_trees = 5): 0.05\n",
      "Validation MSE Random Forest (n_trees = 5): 0.29\n",
      "Validation MSE Discrete Random Forest (n_trees = 5): 0.35\n",
      "Train MSE Random Forest (n_trees = 10): 0.04\n",
      "Validation MSE Random Forest (n_trees = 10): 0.26\n",
      "Validation MSE Discrete Random Forest (n_trees = 10): 0.33\n",
      "Train MSE Random Forest (n_trees = 25): 0.03\n",
      "Validation MSE Random Forest (n_trees = 25): 0.25\n",
      "Validation MSE Discrete Random Forest (n_trees = 25): 0.32\n",
      "Train MSE Random Forest (n_trees = 50): 0.03\n",
      "Validation MSE Random Forest (n_trees = 50): 0.24\n",
      "Validation MSE Discrete Random Forest (n_trees = 50): 0.31\n"
     ]
    },
    {
     "data": {
      "text/plain": [
       "{'Random Forest (n_trees = {n_trees})': (0.03,\n",
       "  0.24,\n",
       "  0.31,\n",
       "  RandomForestRegressor(n_estimators=50))}"
      ]
     },
     "execution_count": 6,
     "metadata": {},
     "output_type": "execute_result"
    }
   ],
   "source": [
    "n_trees_grid = [5,10,25,50]\n",
    "\n",
    "x_train, y_train = reduce_training_set(train, 0.5)\n",
    "\n",
    "run_random_forest_model(x_train, y_train, n_trees_grid)\n"
   ]
  },
  {
   "cell_type": "code",
   "execution_count": 7,
   "metadata": {},
   "outputs": [],
   "source": [
    "n_trees_grid = [5,10,25,50]\n",
    "\n",
    "x_train, y_train = reduce_training_set(train, 0.5)\n",
    "\n",
    "rf = RandomForestRegressor(n_estimators=50).fit(x_train, y_train)"
   ]
  },
  {
   "cell_type": "code",
   "execution_count": 8,
   "metadata": {},
   "outputs": [
    {
     "data": {
      "text/html": [
       "<div>\n",
       "<style scoped>\n",
       "    .dataframe tbody tr th:only-of-type {\n",
       "        vertical-align: middle;\n",
       "    }\n",
       "\n",
       "    .dataframe tbody tr th {\n",
       "        vertical-align: top;\n",
       "    }\n",
       "\n",
       "    .dataframe thead th {\n",
       "        text-align: right;\n",
       "    }\n",
       "</style>\n",
       "<table border=\"1\" class=\"dataframe\">\n",
       "  <thead>\n",
       "    <tr style=\"text-align: right;\">\n",
       "      <th></th>\n",
       "      <th>y_pred</th>\n",
       "      <th>y_test</th>\n",
       "    </tr>\n",
       "  </thead>\n",
       "  <tbody>\n",
       "    <tr>\n",
       "      <th>45</th>\n",
       "      <td>1</td>\n",
       "      <td>0.0</td>\n",
       "    </tr>\n",
       "    <tr>\n",
       "      <th>46</th>\n",
       "      <td>1</td>\n",
       "      <td>1.0</td>\n",
       "    </tr>\n",
       "    <tr>\n",
       "      <th>47</th>\n",
       "      <td>1</td>\n",
       "      <td>1.0</td>\n",
       "    </tr>\n",
       "    <tr>\n",
       "      <th>48</th>\n",
       "      <td>2</td>\n",
       "      <td>3.0</td>\n",
       "    </tr>\n",
       "    <tr>\n",
       "      <th>49</th>\n",
       "      <td>2</td>\n",
       "      <td>4.0</td>\n",
       "    </tr>\n",
       "    <tr>\n",
       "      <th>...</th>\n",
       "      <td>...</td>\n",
       "      <td>...</td>\n",
       "    </tr>\n",
       "    <tr>\n",
       "      <th>85726</th>\n",
       "      <td>1</td>\n",
       "      <td>1.0</td>\n",
       "    </tr>\n",
       "    <tr>\n",
       "      <th>85727</th>\n",
       "      <td>0</td>\n",
       "      <td>0.0</td>\n",
       "    </tr>\n",
       "    <tr>\n",
       "      <th>85728</th>\n",
       "      <td>0</td>\n",
       "      <td>0.0</td>\n",
       "    </tr>\n",
       "    <tr>\n",
       "      <th>85729</th>\n",
       "      <td>0</td>\n",
       "      <td>0.0</td>\n",
       "    </tr>\n",
       "    <tr>\n",
       "      <th>85730</th>\n",
       "      <td>0</td>\n",
       "      <td>0.0</td>\n",
       "    </tr>\n",
       "  </tbody>\n",
       "</table>\n",
       "<p>16723 rows × 2 columns</p>\n",
       "</div>"
      ],
      "text/plain": [
       "       y_pred  y_test\n",
       "45          1     0.0\n",
       "46          1     1.0\n",
       "47          1     1.0\n",
       "48          2     3.0\n",
       "49          2     4.0\n",
       "...       ...     ...\n",
       "85726       1     1.0\n",
       "85727       0     0.0\n",
       "85728       0     0.0\n",
       "85729       0     0.0\n",
       "85730       0     0.0\n",
       "\n",
       "[16723 rows x 2 columns]"
      ]
     },
     "execution_count": 8,
     "metadata": {},
     "output_type": "execute_result"
    }
   ],
   "source": [
    "y_pred = rf.predict(x_val)\n",
    "\n",
    "def df_both_metrics(y_pred, y_test):\n",
    "    y_pred_rounded = []\n",
    "\n",
    "    for pred in y_pred:\n",
    "        if pred - int(pred) < 0.5:\n",
    "            y_pred_rounded.append(max(0, math.floor(pred)))\n",
    "        else:\n",
    "            y_pred_rounded.append(max(0, math.ceil(pred)))\n",
    "    \n",
    "    return pd.DataFrame({'y_pred': y_pred_rounded, 'y_test': y_val})\n",
    "                        \n",
    "df_metrics_val = df_both_metrics(y_pred, y_test)\n",
    "df_metrics_val"
   ]
  },
  {
   "cell_type": "code",
   "execution_count": 9,
   "metadata": {},
   "outputs": [
    {
     "name": "stderr",
     "output_type": "stream",
     "text": [
      "The behavior of DataFrame concatenation with empty or all-NA entries is deprecated. In a future version, this will no longer exclude empty or all-NA columns when determining the result dtypes. To retain the old behavior, exclude the relevant entries before the concat operation.\n"
     ]
    },
    {
     "data": {
      "text/html": [
       "<div>\n",
       "<style scoped>\n",
       "    .dataframe tbody tr th:only-of-type {\n",
       "        vertical-align: middle;\n",
       "    }\n",
       "\n",
       "    .dataframe tbody tr th {\n",
       "        vertical-align: top;\n",
       "    }\n",
       "\n",
       "    .dataframe thead th {\n",
       "        text-align: right;\n",
       "    }\n",
       "</style>\n",
       "<table border=\"1\" class=\"dataframe\">\n",
       "  <thead>\n",
       "    <tr style=\"text-align: right;\">\n",
       "      <th></th>\n",
       "      <th>Y(t+1)</th>\n",
       "      <th>MSE</th>\n",
       "      <th>Accuracy</th>\n",
       "    </tr>\n",
       "  </thead>\n",
       "  <tbody>\n",
       "    <tr>\n",
       "      <th>0</th>\n",
       "      <td>0.0</td>\n",
       "      <td>0.228281</td>\n",
       "      <td>0.812615</td>\n",
       "    </tr>\n",
       "    <tr>\n",
       "      <th>1</th>\n",
       "      <td>1.0</td>\n",
       "      <td>0.353465</td>\n",
       "      <td>0.646535</td>\n",
       "    </tr>\n",
       "    <tr>\n",
       "      <th>2</th>\n",
       "      <td>2.0</td>\n",
       "      <td>0.280911</td>\n",
       "      <td>0.747025</td>\n",
       "    </tr>\n",
       "    <tr>\n",
       "      <th>3</th>\n",
       "      <td>3.0</td>\n",
       "      <td>1.387097</td>\n",
       "      <td>0.008798</td>\n",
       "    </tr>\n",
       "    <tr>\n",
       "      <th>4</th>\n",
       "      <td>4.0</td>\n",
       "      <td>5.025000</td>\n",
       "      <td>0.000000</td>\n",
       "    </tr>\n",
       "  </tbody>\n",
       "</table>\n",
       "</div>"
      ],
      "text/plain": [
       "   Y(t+1)       MSE  Accuracy\n",
       "0     0.0  0.228281  0.812615\n",
       "1     1.0  0.353465  0.646535\n",
       "2     2.0  0.280911  0.747025\n",
       "3     3.0  1.387097  0.008798\n",
       "4     4.0  5.025000  0.000000"
      ]
     },
     "execution_count": 9,
     "metadata": {},
     "output_type": "execute_result"
    }
   ],
   "source": [
    "import pandas as pd\n",
    "from sklearn.metrics import mean_squared_error, accuracy_score\n",
    "\n",
    "def get_metrics_y_relative(df):\n",
    "\n",
    "    metrics_df = pd.DataFrame(columns=['Y(t+1)', 'MSE', 'Accuracy'])\n",
    "\n",
    "    for class_label in sorted(df['y_test'].unique()):\n",
    "        df_class = df[df['y_test'] == class_label]\n",
    "\n",
    "        mse = mean_squared_error(df_class['y_test'], df_class['y_pred'])\n",
    "        accuracy = accuracy_score(df_class['y_test'], df_class['y_pred'])\n",
    "\n",
    "        metrics_df = pd.concat([metrics_df, pd.DataFrame({\n",
    "            'Y(t+1)': [class_label],\n",
    "            'MSE': [mse],\n",
    "            'Accuracy': [accuracy]\n",
    "        })])\n",
    "    return metrics_df.reset_index(drop=True)\n",
    "\n",
    "# Example usage:  # Replace with your actual DataFrame\n",
    "metrics_df = get_metrics_y_relative(df_metrics_val)\n",
    "metrics_df\n"
   ]
  },
  {
   "cell_type": "code",
   "execution_count": 10,
   "metadata": {},
   "outputs": [
    {
     "name": "stderr",
     "output_type": "stream",
     "text": [
      "The behavior of DataFrame concatenation with empty or all-NA entries is deprecated. In a future version, this will no longer exclude empty or all-NA columns when determining the result dtypes. To retain the old behavior, exclude the relevant entries before the concat operation.\n"
     ]
    },
    {
     "data": {
      "text/html": [
       "<div>\n",
       "<style scoped>\n",
       "    .dataframe tbody tr th:only-of-type {\n",
       "        vertical-align: middle;\n",
       "    }\n",
       "\n",
       "    .dataframe tbody tr th {\n",
       "        vertical-align: top;\n",
       "    }\n",
       "\n",
       "    .dataframe thead th {\n",
       "        text-align: right;\n",
       "    }\n",
       "</style>\n",
       "<table border=\"1\" class=\"dataframe\">\n",
       "  <thead>\n",
       "    <tr style=\"text-align: right;\">\n",
       "      <th></th>\n",
       "      <th>Estado</th>\n",
       "      <th>MSE</th>\n",
       "      <th>Accuracy</th>\n",
       "    </tr>\n",
       "  </thead>\n",
       "  <tbody>\n",
       "    <tr>\n",
       "      <th>0</th>\n",
       "      <td>1</td>\n",
       "      <td>0.434599</td>\n",
       "      <td>0.590717</td>\n",
       "    </tr>\n",
       "    <tr>\n",
       "      <th>1</th>\n",
       "      <td>2</td>\n",
       "      <td>0.607898</td>\n",
       "      <td>0.537377</td>\n",
       "    </tr>\n",
       "    <tr>\n",
       "      <th>2</th>\n",
       "      <td>3</td>\n",
       "      <td>0.559633</td>\n",
       "      <td>0.538663</td>\n",
       "    </tr>\n",
       "    <tr>\n",
       "      <th>3</th>\n",
       "      <td>4</td>\n",
       "      <td>0.796415</td>\n",
       "      <td>0.432778</td>\n",
       "    </tr>\n",
       "    <tr>\n",
       "      <th>4</th>\n",
       "      <td>5</td>\n",
       "      <td>0.756997</td>\n",
       "      <td>0.440204</td>\n",
       "    </tr>\n",
       "    <tr>\n",
       "      <th>5</th>\n",
       "      <td>6</td>\n",
       "      <td>0.642518</td>\n",
       "      <td>0.492874</td>\n",
       "    </tr>\n",
       "    <tr>\n",
       "      <th>6</th>\n",
       "      <td>7</td>\n",
       "      <td>0.394737</td>\n",
       "      <td>0.627820</td>\n",
       "    </tr>\n",
       "    <tr>\n",
       "      <th>7</th>\n",
       "      <td>8</td>\n",
       "      <td>0.052851</td>\n",
       "      <td>0.947149</td>\n",
       "    </tr>\n",
       "    <tr>\n",
       "      <th>8</th>\n",
       "      <td>9</td>\n",
       "      <td>0.262637</td>\n",
       "      <td>0.737363</td>\n",
       "    </tr>\n",
       "    <tr>\n",
       "      <th>9</th>\n",
       "      <td>10</td>\n",
       "      <td>0.116698</td>\n",
       "      <td>0.891514</td>\n",
       "    </tr>\n",
       "    <tr>\n",
       "      <th>10</th>\n",
       "      <td>11</td>\n",
       "      <td>0.402724</td>\n",
       "      <td>0.614786</td>\n",
       "    </tr>\n",
       "    <tr>\n",
       "      <th>11</th>\n",
       "      <td>12</td>\n",
       "      <td>0.466667</td>\n",
       "      <td>0.550000</td>\n",
       "    </tr>\n",
       "    <tr>\n",
       "      <th>12</th>\n",
       "      <td>13</td>\n",
       "      <td>0.000000</td>\n",
       "      <td>1.000000</td>\n",
       "    </tr>\n",
       "    <tr>\n",
       "      <th>13</th>\n",
       "      <td>14</td>\n",
       "      <td>1.000000</td>\n",
       "      <td>0.000000</td>\n",
       "    </tr>\n",
       "  </tbody>\n",
       "</table>\n",
       "</div>"
      ],
      "text/plain": [
       "   Estado       MSE  Accuracy\n",
       "0       1  0.434599  0.590717\n",
       "1       2  0.607898  0.537377\n",
       "2       3  0.559633  0.538663\n",
       "3       4  0.796415  0.432778\n",
       "4       5  0.756997  0.440204\n",
       "5       6  0.642518  0.492874\n",
       "6       7  0.394737  0.627820\n",
       "7       8  0.052851  0.947149\n",
       "8       9  0.262637  0.737363\n",
       "9      10  0.116698  0.891514\n",
       "10     11  0.402724  0.614786\n",
       "11     12  0.466667  0.550000\n",
       "12     13  0.000000  1.000000\n",
       "13     14  1.000000  0.000000"
      ]
     },
     "execution_count": 10,
     "metadata": {},
     "output_type": "execute_result"
    }
   ],
   "source": [
    "x_val[\"estado_actual\"] = x_val[estados].apply(find_estado_with_value_two, axis=1)\n",
    "df_metrics_val[\"estado_actual\"] = x_val[\"estado_actual\"]\n",
    "def get_metrics_by_estado(df):\n",
    "\n",
    "    metrics_df = pd.DataFrame(columns=['Estado', 'MSE', 'Accuracy'])\n",
    "\n",
    "    for class_label in sorted(df['estado_actual'].unique()):\n",
    "        df_class = df[df['estado_actual'] == class_label]\n",
    "\n",
    "        mse = mean_squared_error(df_class['y_test'], df_class['y_pred'])\n",
    "        accuracy = accuracy_score(df_class['y_test'], df_class['y_pred'])\n",
    "\n",
    "        metrics_df = pd.concat([metrics_df, pd.DataFrame({\n",
    "            'Estado': [class_label],\n",
    "            'MSE': [mse],\n",
    "            'Accuracy': [accuracy]\n",
    "        })])\n",
    "    return metrics_df.reset_index(drop=True)\n",
    "\n",
    "metrics_df_by_estado = get_metrics_by_estado(df_metrics_val)\n",
    "metrics_df_by_estado"
   ]
  },
  {
   "cell_type": "code",
   "execution_count": 11,
   "metadata": {},
   "outputs": [
    {
     "data": {
      "text/plain": [
       "estado_actual\n",
       "10    6941\n",
       "9     2928\n",
       "11    1028\n",
       "6      842\n",
       "7      798\n",
       "5      786\n",
       "4      781\n",
       "3      763\n",
       "8      719\n",
       "2      709\n",
       "1      237\n",
       "12     180\n",
       "13       7\n",
       "14       4\n",
       "Name: count, dtype: int64"
      ]
     },
     "execution_count": 11,
     "metadata": {},
     "output_type": "execute_result"
    }
   ],
   "source": [
    "x_val[\"estado_actual\"].value_counts()"
   ]
  }
 ],
 "metadata": {
  "kernelspec": {
   "display_name": "zrive-ds-vu5mmrLb-py3.11",
   "language": "python",
   "name": "python3"
  },
  "language_info": {
   "codemirror_mode": {
    "name": "ipython",
    "version": 3
   },
   "file_extension": ".py",
   "mimetype": "text/x-python",
   "name": "python",
   "nbconvert_exporter": "python",
   "pygments_lexer": "ipython3",
   "version": "3.11.5"
  }
 },
 "nbformat": 4,
 "nbformat_minor": 2
}
