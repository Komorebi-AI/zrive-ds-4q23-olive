{
 "cells": [
  {
   "cell_type": "code",
   "execution_count": 7,
   "metadata": {},
   "outputs": [],
   "source": [
    "import os\n",
    "import requests"
   ]
  },
  {
   "cell_type": "code",
   "execution_count": 12,
   "metadata": {},
   "outputs": [],
   "source": [
    "from dotenv import load_dotenv\n",
    "\n",
    "# Carga las variables de entorno desde el archivo .env\n",
    "load_dotenv()\n",
    "\n",
    "# Accede a la contraseña desde las variables de entorno\n",
    "password = os.getenv('COPERNICUS_PASSWORD')\n",
    "username = os.getenv('COPERNICUS_USERNAME')"
   ]
  },
  {
   "cell_type": "code",
   "execution_count": 105,
   "metadata": {},
   "outputs": [],
   "source": [
    "import urllib.request\n",
    "from urllib.error import HTTPError\n",
    "\n",
    "def download_nc_file_with_auth(url, output_file, username, password):\n",
    "    # Create a password manager with the given username and password\n",
    "    password_mgr = urllib.request.HTTPPasswordMgrWithDefaultRealm()\n",
    "    password_mgr.add_password(None, url, username, password)\n",
    "    handler = urllib.request.HTTPBasicAuthHandler(password_mgr)\n",
    "    opener = urllib.request.build_opener(handler)\n",
    "    \n",
    "    try:\n",
    "        # Open the URL with the configured opener\n",
    "        response = opener.open(url)\n",
    "        \n",
    "        with open(output_file, 'wb') as f:\n",
    "            f.write(response.read())\n",
    "        \n",
    "        print(f\"Downloaded {url} to {output_file}\")\n",
    "    except HTTPError as e:\n",
    "        print(f\"Failed to download {url}. Status code: {e.code}, Reason: {e.reason}\")"
   ]
  },
  {
   "cell_type": "code",
   "execution_count": 104,
   "metadata": {},
   "outputs": [],
   "source": [
    "link_1 = f\"https://land.copernicus.vgt.vito.be/manifest/ndvi_v3_1km/manifest_cgls_ndvi_v3_1km_latest.txt\" #2020 - 1999\n",
    "link_2 = f\"https://land.copernicus.vgt.vito.be/manifest/ssm_v1_1km/manifest_cgls_ssm_v1_1km_latest.txt\" #SSM 2014\n",
    "link_3 = f\"https://land.copernicus.vgt.vito.be/manifest/fapar_v2_1km/manifest_cgls_fapar_v2_1km_latest.txt\" #FAPAR 1999 - 202006\n",
    "\n",
    "link_4 = f\"https://land.copernicus.vgt.vito.be/PDF/datapool/Vegetation/Indicators/NDVI_1km_V2_LTS/1999/12/21/NDVI-LTS_1999-2017-1221_GLOBE_VGT-PROBAV_V2.2.1/c_gls_NDVI-LTS_1999-2017-1221_GLOBE_VGT-PROBAV_V2.2.1.nc\"\n",
    "\n",
    "links = [link_1, link_2, link_3]\n",
    "folders = [\"nvdi\", \"ssm\", \"fapar\"]\n",
    "\n",
    "link_dict = {link:folder for link, folder in zip(links, folders)}\n",
    "\n",
    "main_data_folder = f\"../data\""
   ]
  },
  {
   "cell_type": "code",
   "execution_count": 106,
   "metadata": {},
   "outputs": [],
   "source": [
    "\n",
    "\n",
    "for link, folder in link_dict.items():\n",
    "\n",
    "    data_folder = f\"{main_data_folder}/{folder}\"\n",
    "    if os.path.exists(data_folder) is False:\n",
    "        os.mkdir(data_folder)\n",
    "\n",
    "    response = requests.get(link_1)\n",
    "\n",
    "    response.raise_for_status()\n",
    "\n",
    "    nc_files = response.text.split(\"\\n\")\n",
    "\n",
    "    for nc_file in nc_files:\n",
    "\n",
    "        filename = nc_file.split(\"/\")[-1]\n",
    "\n",
    "        if \".nc\" in filename:\n",
    "            output_filename = f'{data_folder}/{filename}.nc'\n",
    "            download_nc_file_with_auth(nc_file, output_filename, username, password)\n",
    "\n",
    "        else:\n",
    "            continue\n",
    "\n",
    "\n",
    "        break\n",
    "\n",
    "    break"
   ]
  },
  {
   "cell_type": "code",
   "execution_count": 29,
   "metadata": {},
   "outputs": [],
   "source": [
    "import netCDF4 as nc\n",
    "\n",
    "ds = nc.Dataset(\"test.nc\")"
   ]
  },
  {
   "cell_type": "code",
   "execution_count": 56,
   "metadata": {},
   "outputs": [
    {
     "data": {
      "text/plain": [
       "masked_array(data=80.,\n",
       "             mask=False,\n",
       "       fill_value=1e+20)"
      ]
     },
     "execution_count": 56,
     "metadata": {},
     "output_type": "execute_result"
    }
   ],
   "source": [
    "ds.variables[\"lat\"][0]"
   ]
  },
  {
   "cell_type": "code",
   "execution_count": 59,
   "metadata": {},
   "outputs": [
    {
     "data": {
      "text/plain": [
       "masked_array(data=[--, --, --, ..., --, --, --],\n",
       "             mask=[ True,  True,  True, ...,  True,  True,  True],\n",
       "       fill_value=255,\n",
       "            dtype=float32)"
      ]
     },
     "execution_count": 59,
     "metadata": {},
     "output_type": "execute_result"
    }
   ],
   "source": [
    "ds.variables['NDVI'][1000]"
   ]
  }
 ],
 "metadata": {
  "kernelspec": {
   "display_name": "zrive-ds-e6lejYny-py3.11",
   "language": "python",
   "name": "python3"
  },
  "language_info": {
   "codemirror_mode": {
    "name": "ipython",
    "version": 3
   },
   "file_extension": ".py",
   "mimetype": "text/x-python",
   "name": "python",
   "nbconvert_exporter": "python",
   "pygments_lexer": "ipython3",
   "version": "3.11.0"
  }
 },
 "nbformat": 4,
 "nbformat_minor": 2
}
