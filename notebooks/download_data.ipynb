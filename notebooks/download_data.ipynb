{
 "cells": [
  {
   "cell_type": "code",
   "execution_count": 1,
   "metadata": {},
   "outputs": [],
   "source": [
    "from dotenv import load_dotenv\n",
    "import netCDF4 as nc\n",
    "import numpy as np\n",
    "import os\n",
    "import requests\n",
    "from terracatalogueclient import Catalogue\n",
    "from terracatalogueclient.config import CatalogueConfig, CatalogueEnvironment\n",
    "import pandas as pd\n",
    "import urllib.request\n",
    "from urllib.error import HTTPError\n",
    "import xarray as xr"
   ]
  },
  {
   "cell_type": "code",
   "execution_count": 8,
   "metadata": {},
   "outputs": [],
   "source": [
    "# Carga las variables de entorno desde el archivo .env\n",
    "load_dotenv()\n",
    "\n",
    "# Accede a la contraseña desde las variables de entorno\n",
    "password = os.getenv('COPERNICUS_PASSWORD')\n",
    "username = os.getenv('COPERNICUS_USERNAME')"
   ]
  },
  {
   "cell_type": "code",
   "execution_count": 4,
   "metadata": {},
   "outputs": [],
   "source": [
    "\n",
    "def download_nc_file_with_auth(url, output_file, username, password):\n",
    "    # Create a password manager with the given username and password\n",
    "    password_mgr = urllib.request.HTTPPasswordMgrWithDefaultRealm()\n",
    "    password_mgr.add_password(None, url, username, password)\n",
    "    handler = urllib.request.HTTPBasicAuthHandler(password_mgr)\n",
    "    opener = urllib.request.build_opener(handler)\n",
    "    \n",
    "    try:\n",
    "        # Open the URL with the configured opener\n",
    "        response = opener.open(url)\n",
    "        \n",
    "        with open(output_file, 'wb') as f:\n",
    "            f.write(response.read())\n",
    "        \n",
    "        print(f\"Downloaded {url} to {output_file}\")\n",
    "    except HTTPError as e:\n",
    "        print(f\"Failed to download {url}. Status code: {e.code}, Reason: {e.reason}\")\n",
    "\n",
    "\n",
    "\n",
    "def slice_ds(lat_min, lat_max, lon_min, lon_max, ds):\n",
    "\n",
    "    lat_min_ds = ds.lat.values.min()\n",
    "    lat_max_ds = ds.lat.values.max()\n",
    "    lat_len_ds = len(ds.lat.values)\n",
    "\n",
    "    lon_min_ds = ds.lon.values.min()\n",
    "    lon_max_ds = ds.lon.values.max()\n",
    "    lon_len_ds = len(ds.lon.values)\n",
    "\n",
    "    lat_coord = np.linspace(lat_max_ds, lat_min_ds, lat_len_ds)\n",
    "    lon_coord = np.linspace(lon_min_ds, lon_max_ds, lon_len_ds)\n",
    "\n",
    "    new_lat_min = np.absolute(lat_coord-lat_min).argmin()\n",
    "    new_lat_max = np.absolute(lat_coord-lat_max).argmin()\n",
    "    new_lon_min = np.absolute(lon_coord-lon_min).argmin()\n",
    "    new_lon_max = np.absolute(lon_coord-lon_max).argmin()\n",
    "\n",
    "    return ds.NDVI[0, new_lat_max:new_lat_min, new_lon_min:new_lon_max]"
   ]
  },
  {
   "cell_type": "code",
   "execution_count": 33,
   "metadata": {},
   "outputs": [],
   "source": [
    "link_1 = f\"https://land.copernicus.vgt.vito.be/manifest/ndvi_v3_1km/manifest_cgls_ndvi_v3_1km_latest.txt\" #2020 - 1999\n",
    "link_2 = f\"https://land.copernicus.vgt.vito.be/manifest/ssm_v1_1km/manifest_cgls_ssm_v1_1km_latest.txt\" #SSM 2014\n",
    "link_3 = f\"https://land.copernicus.vgt.vito.be/manifest/fapar_v2_1km/manifest_cgls_fapar_v2_1km_latest.txt\" #FAPAR 1999 - 202006\n",
    "\n",
    "link_4 = f\"https://land.copernicus.vgt.vito.be/PDF/datapool/Vegetation/Indicators/NDVI_1km_V2_LTS/1999/12/21/NDVI-LTS_1999-2017-1221_GLOBE_VGT-PROBAV_V2.2.1/c_gls_NDVI-LTS_1999-2017-1221_GLOBE_VGT-PROBAV_V2.2.1.nc\"\n",
    "\n",
    "links = [link_1, link_2, link_3]\n",
    "folders = [\"nvdi\", \"ssm\", \"fapar\"]\n",
    "\n",
    "link_dict = {link:folder for link, folder in zip(links, folders)}\n",
    "\n",
    "main_data_folder = f\"../data\""
   ]
  },
  {
   "cell_type": "code",
   "execution_count": 35,
   "metadata": {},
   "outputs": [
    {
     "name": "stdout",
     "output_type": "stream",
     "text": [
      "Downloaded https://land.copernicus.vgt.vito.be/PDF/datapool/Vegetation/Indicators/NDVI_1km_V3/2020/06/21/NDVI_202006210000_GLOBE_PROBAV_V3.0.1/c_gls_NDVI_202006210000_GLOBE_PROBAV_V3.0.1.nc to ../data/nvdi/c_gls_NDVI_202006210000_GLOBE_PROBAV_V3.0.1.nc\n"
     ]
    },
    {
     "ename": "PermissionError",
     "evalue": "[Errno 13] Permission denied: '/home/carlossi/zrive/zrive-ds-4q23-olive/data/nvdi/c_gls_NDVI_202006210000_GLOBE_PROBAV_V3.0.1.nc'",
     "output_type": "error",
     "traceback": [
      "\u001b[0;31m---------------------------------------------------------------------------\u001b[0m",
      "\u001b[0;31mKeyError\u001b[0m                                  Traceback (most recent call last)",
      "File \u001b[0;32m~/.cache/pypoetry/virtualenvs/zrive-ds-e6lejYny-py3.11/lib/python3.11/site-packages/xarray/backends/file_manager.py:211\u001b[0m, in \u001b[0;36mCachingFileManager._acquire_with_cache_info\u001b[0;34m(self, needs_lock)\u001b[0m\n\u001b[1;32m    210\u001b[0m \u001b[39mtry\u001b[39;00m:\n\u001b[0;32m--> 211\u001b[0m     file \u001b[39m=\u001b[39m \u001b[39mself\u001b[39;49m\u001b[39m.\u001b[39;49m_cache[\u001b[39mself\u001b[39;49m\u001b[39m.\u001b[39;49m_key]\n\u001b[1;32m    212\u001b[0m \u001b[39mexcept\u001b[39;00m \u001b[39mKeyError\u001b[39;00m:\n",
      "File \u001b[0;32m~/.cache/pypoetry/virtualenvs/zrive-ds-e6lejYny-py3.11/lib/python3.11/site-packages/xarray/backends/lru_cache.py:56\u001b[0m, in \u001b[0;36mLRUCache.__getitem__\u001b[0;34m(self, key)\u001b[0m\n\u001b[1;32m     55\u001b[0m \u001b[39mwith\u001b[39;00m \u001b[39mself\u001b[39m\u001b[39m.\u001b[39m_lock:\n\u001b[0;32m---> 56\u001b[0m     value \u001b[39m=\u001b[39m \u001b[39mself\u001b[39;49m\u001b[39m.\u001b[39;49m_cache[key]\n\u001b[1;32m     57\u001b[0m     \u001b[39mself\u001b[39m\u001b[39m.\u001b[39m_cache\u001b[39m.\u001b[39mmove_to_end(key)\n",
      "\u001b[0;31mKeyError\u001b[0m: [<class 'netCDF4._netCDF4.Dataset'>, ('/home/carlossi/zrive/zrive-ds-4q23-olive/data/nvdi/c_gls_NDVI_202006210000_GLOBE_PROBAV_V3.0.1.nc',), 'a', (('clobber', True), ('diskless', False), ('format', 'NETCDF4'), ('persist', False)), 'd98ee180-4a96-4bfa-8a2c-0c08dae616ec']",
      "\nDuring handling of the above exception, another exception occurred:\n",
      "\u001b[0;31mPermissionError\u001b[0m                           Traceback (most recent call last)",
      "\u001b[1;32m/home/carlossi/zrive/zrive-ds-4q23-olive/src/download_data.ipynb Cell 5\u001b[0m line \u001b[0;36m2\n\u001b[1;32m     <a href='vscode-notebook-cell://wsl%2Bubuntu/home/carlossi/zrive/zrive-ds-4q23-olive/src/download_data.ipynb#W4sdnNjb2RlLXJlbW90ZQ%3D%3D?line=22'>23</a>\u001b[0m ds \u001b[39m=\u001b[39m xr\u001b[39m.\u001b[39mopen_dataset(output_filename)\n\u001b[1;32m     <a href='vscode-notebook-cell://wsl%2Bubuntu/home/carlossi/zrive/zrive-ds-4q23-olive/src/download_data.ipynb#W4sdnNjb2RlLXJlbW90ZQ%3D%3D?line=24'>25</a>\u001b[0m ds_slice \u001b[39m=\u001b[39m slice_ds(lat_min\u001b[39m=\u001b[39m\u001b[39m36\u001b[39m, lat_max\u001b[39m=\u001b[39m\u001b[39m46\u001b[39m, lon_min\u001b[39m=\u001b[39m\u001b[39m-\u001b[39m\u001b[39m10\u001b[39m, lon_max\u001b[39m=\u001b[39m\u001b[39m3\u001b[39m, ds\u001b[39m=\u001b[39mds)\n\u001b[0;32m---> <a href='vscode-notebook-cell://wsl%2Bubuntu/home/carlossi/zrive/zrive-ds-4q23-olive/src/download_data.ipynb#W4sdnNjb2RlLXJlbW90ZQ%3D%3D?line=26'>27</a>\u001b[0m ds_slice\u001b[39m.\u001b[39;49mto_netcdf(output_filename)\n",
      "File \u001b[0;32m~/.cache/pypoetry/virtualenvs/zrive-ds-e6lejYny-py3.11/lib/python3.11/site-packages/xarray/core/dataarray.py:4027\u001b[0m, in \u001b[0;36mDataArray.to_netcdf\u001b[0;34m(self, path, mode, format, group, engine, encoding, unlimited_dims, compute, invalid_netcdf)\u001b[0m\n\u001b[1;32m   4023\u001b[0m \u001b[39melse\u001b[39;00m:\n\u001b[1;32m   4024\u001b[0m     \u001b[39m# No problems with the name - so we're fine!\u001b[39;00m\n\u001b[1;32m   4025\u001b[0m     dataset \u001b[39m=\u001b[39m \u001b[39mself\u001b[39m\u001b[39m.\u001b[39mto_dataset()\n\u001b[0;32m-> 4027\u001b[0m \u001b[39mreturn\u001b[39;00m to_netcdf(  \u001b[39m# type: ignore  # mypy cannot resolve the overloads:(\u001b[39;49;00m\n\u001b[1;32m   4028\u001b[0m     dataset,\n\u001b[1;32m   4029\u001b[0m     path,\n\u001b[1;32m   4030\u001b[0m     mode\u001b[39m=\u001b[39;49mmode,\n\u001b[1;32m   4031\u001b[0m     \u001b[39mformat\u001b[39;49m\u001b[39m=\u001b[39;49m\u001b[39mformat\u001b[39;49m,\n\u001b[1;32m   4032\u001b[0m     group\u001b[39m=\u001b[39;49mgroup,\n\u001b[1;32m   4033\u001b[0m     engine\u001b[39m=\u001b[39;49mengine,\n\u001b[1;32m   4034\u001b[0m     encoding\u001b[39m=\u001b[39;49mencoding,\n\u001b[1;32m   4035\u001b[0m     unlimited_dims\u001b[39m=\u001b[39;49munlimited_dims,\n\u001b[1;32m   4036\u001b[0m     compute\u001b[39m=\u001b[39;49mcompute,\n\u001b[1;32m   4037\u001b[0m     multifile\u001b[39m=\u001b[39;49m\u001b[39mFalse\u001b[39;49;00m,\n\u001b[1;32m   4038\u001b[0m     invalid_netcdf\u001b[39m=\u001b[39;49minvalid_netcdf,\n\u001b[1;32m   4039\u001b[0m )\n",
      "File \u001b[0;32m~/.cache/pypoetry/virtualenvs/zrive-ds-e6lejYny-py3.11/lib/python3.11/site-packages/xarray/backends/api.py:1244\u001b[0m, in \u001b[0;36mto_netcdf\u001b[0;34m(dataset, path_or_file, mode, format, group, engine, encoding, unlimited_dims, compute, multifile, invalid_netcdf)\u001b[0m\n\u001b[1;32m   1240\u001b[0m     \u001b[39melse\u001b[39;00m:\n\u001b[1;32m   1241\u001b[0m         \u001b[39mraise\u001b[39;00m \u001b[39mValueError\u001b[39;00m(\n\u001b[1;32m   1242\u001b[0m             \u001b[39mf\u001b[39m\u001b[39m\"\u001b[39m\u001b[39munrecognized option \u001b[39m\u001b[39m'\u001b[39m\u001b[39minvalid_netcdf\u001b[39m\u001b[39m'\u001b[39m\u001b[39m for engine \u001b[39m\u001b[39m{\u001b[39;00mengine\u001b[39m}\u001b[39;00m\u001b[39m\"\u001b[39m\n\u001b[1;32m   1243\u001b[0m         )\n\u001b[0;32m-> 1244\u001b[0m store \u001b[39m=\u001b[39m store_open(target, mode, \u001b[39mformat\u001b[39;49m, group, \u001b[39m*\u001b[39;49m\u001b[39m*\u001b[39;49mkwargs)\n\u001b[1;32m   1246\u001b[0m \u001b[39mif\u001b[39;00m unlimited_dims \u001b[39mis\u001b[39;00m \u001b[39mNone\u001b[39;00m:\n\u001b[1;32m   1247\u001b[0m     unlimited_dims \u001b[39m=\u001b[39m dataset\u001b[39m.\u001b[39mencoding\u001b[39m.\u001b[39mget(\u001b[39m\"\u001b[39m\u001b[39munlimited_dims\u001b[39m\u001b[39m\"\u001b[39m, \u001b[39mNone\u001b[39;00m)\n",
      "File \u001b[0;32m~/.cache/pypoetry/virtualenvs/zrive-ds-e6lejYny-py3.11/lib/python3.11/site-packages/xarray/backends/netCDF4_.py:400\u001b[0m, in \u001b[0;36mNetCDF4DataStore.open\u001b[0;34m(cls, filename, mode, format, group, clobber, diskless, persist, lock, lock_maker, autoclose)\u001b[0m\n\u001b[1;32m    394\u001b[0m kwargs \u001b[39m=\u001b[39m \u001b[39mdict\u001b[39m(\n\u001b[1;32m    395\u001b[0m     clobber\u001b[39m=\u001b[39mclobber, diskless\u001b[39m=\u001b[39mdiskless, persist\u001b[39m=\u001b[39mpersist, \u001b[39mformat\u001b[39m\u001b[39m=\u001b[39m\u001b[39mformat\u001b[39m\n\u001b[1;32m    396\u001b[0m )\n\u001b[1;32m    397\u001b[0m manager \u001b[39m=\u001b[39m CachingFileManager(\n\u001b[1;32m    398\u001b[0m     netCDF4\u001b[39m.\u001b[39mDataset, filename, mode\u001b[39m=\u001b[39mmode, kwargs\u001b[39m=\u001b[39mkwargs\n\u001b[1;32m    399\u001b[0m )\n\u001b[0;32m--> 400\u001b[0m \u001b[39mreturn\u001b[39;00m \u001b[39mcls\u001b[39;49m(manager, group\u001b[39m=\u001b[39;49mgroup, mode\u001b[39m=\u001b[39;49mmode, lock\u001b[39m=\u001b[39;49mlock, autoclose\u001b[39m=\u001b[39;49mautoclose)\n",
      "File \u001b[0;32m~/.cache/pypoetry/virtualenvs/zrive-ds-e6lejYny-py3.11/lib/python3.11/site-packages/xarray/backends/netCDF4_.py:347\u001b[0m, in \u001b[0;36mNetCDF4DataStore.__init__\u001b[0;34m(self, manager, group, mode, lock, autoclose)\u001b[0m\n\u001b[1;32m    345\u001b[0m \u001b[39mself\u001b[39m\u001b[39m.\u001b[39m_group \u001b[39m=\u001b[39m group\n\u001b[1;32m    346\u001b[0m \u001b[39mself\u001b[39m\u001b[39m.\u001b[39m_mode \u001b[39m=\u001b[39m mode\n\u001b[0;32m--> 347\u001b[0m \u001b[39mself\u001b[39m\u001b[39m.\u001b[39mformat \u001b[39m=\u001b[39m \u001b[39mself\u001b[39;49m\u001b[39m.\u001b[39;49mds\u001b[39m.\u001b[39mdata_model\n\u001b[1;32m    348\u001b[0m \u001b[39mself\u001b[39m\u001b[39m.\u001b[39m_filename \u001b[39m=\u001b[39m \u001b[39mself\u001b[39m\u001b[39m.\u001b[39mds\u001b[39m.\u001b[39mfilepath()\n\u001b[1;32m    349\u001b[0m \u001b[39mself\u001b[39m\u001b[39m.\u001b[39mis_remote \u001b[39m=\u001b[39m is_remote_uri(\u001b[39mself\u001b[39m\u001b[39m.\u001b[39m_filename)\n",
      "File \u001b[0;32m~/.cache/pypoetry/virtualenvs/zrive-ds-e6lejYny-py3.11/lib/python3.11/site-packages/xarray/backends/netCDF4_.py:409\u001b[0m, in \u001b[0;36mNetCDF4DataStore.ds\u001b[0;34m(self)\u001b[0m\n\u001b[1;32m    407\u001b[0m \u001b[39m@property\u001b[39m\n\u001b[1;32m    408\u001b[0m \u001b[39mdef\u001b[39;00m \u001b[39mds\u001b[39m(\u001b[39mself\u001b[39m):\n\u001b[0;32m--> 409\u001b[0m     \u001b[39mreturn\u001b[39;00m \u001b[39mself\u001b[39;49m\u001b[39m.\u001b[39;49m_acquire()\n",
      "File \u001b[0;32m~/.cache/pypoetry/virtualenvs/zrive-ds-e6lejYny-py3.11/lib/python3.11/site-packages/xarray/backends/netCDF4_.py:403\u001b[0m, in \u001b[0;36mNetCDF4DataStore._acquire\u001b[0;34m(self, needs_lock)\u001b[0m\n\u001b[1;32m    402\u001b[0m \u001b[39mdef\u001b[39;00m \u001b[39m_acquire\u001b[39m(\u001b[39mself\u001b[39m, needs_lock\u001b[39m=\u001b[39m\u001b[39mTrue\u001b[39;00m):\n\u001b[0;32m--> 403\u001b[0m     \u001b[39mwith\u001b[39;49;00m \u001b[39mself\u001b[39;49m\u001b[39m.\u001b[39;49m_manager\u001b[39m.\u001b[39;49macquire_context(needs_lock) \u001b[39mas\u001b[39;49;00m root:\n\u001b[1;32m    404\u001b[0m         ds \u001b[39m=\u001b[39;49m _nc4_require_group(root, \u001b[39mself\u001b[39;49m\u001b[39m.\u001b[39;49m_group, \u001b[39mself\u001b[39;49m\u001b[39m.\u001b[39;49m_mode)\n\u001b[1;32m    405\u001b[0m     \u001b[39mreturn\u001b[39;00m ds\n",
      "File \u001b[0;32m~/.pyenv/versions/3.11.0/lib/python3.11/contextlib.py:137\u001b[0m, in \u001b[0;36m_GeneratorContextManager.__enter__\u001b[0;34m(self)\u001b[0m\n\u001b[1;32m    135\u001b[0m \u001b[39mdel\u001b[39;00m \u001b[39mself\u001b[39m\u001b[39m.\u001b[39margs, \u001b[39mself\u001b[39m\u001b[39m.\u001b[39mkwds, \u001b[39mself\u001b[39m\u001b[39m.\u001b[39mfunc\n\u001b[1;32m    136\u001b[0m \u001b[39mtry\u001b[39;00m:\n\u001b[0;32m--> 137\u001b[0m     \u001b[39mreturn\u001b[39;00m \u001b[39mnext\u001b[39m(\u001b[39mself\u001b[39m\u001b[39m.\u001b[39mgen)\n\u001b[1;32m    138\u001b[0m \u001b[39mexcept\u001b[39;00m \u001b[39mStopIteration\u001b[39;00m:\n\u001b[1;32m    139\u001b[0m     \u001b[39mraise\u001b[39;00m \u001b[39mRuntimeError\u001b[39;00m(\u001b[39m\"\u001b[39m\u001b[39mgenerator didn\u001b[39m\u001b[39m'\u001b[39m\u001b[39mt yield\u001b[39m\u001b[39m\"\u001b[39m) \u001b[39mfrom\u001b[39;00m \u001b[39mNone\u001b[39;00m\n",
      "File \u001b[0;32m~/.cache/pypoetry/virtualenvs/zrive-ds-e6lejYny-py3.11/lib/python3.11/site-packages/xarray/backends/file_manager.py:199\u001b[0m, in \u001b[0;36mCachingFileManager.acquire_context\u001b[0;34m(self, needs_lock)\u001b[0m\n\u001b[1;32m    196\u001b[0m \u001b[39m@contextlib\u001b[39m\u001b[39m.\u001b[39mcontextmanager\n\u001b[1;32m    197\u001b[0m \u001b[39mdef\u001b[39;00m \u001b[39macquire_context\u001b[39m(\u001b[39mself\u001b[39m, needs_lock\u001b[39m=\u001b[39m\u001b[39mTrue\u001b[39;00m):\n\u001b[1;32m    198\u001b[0m \u001b[39m    \u001b[39m\u001b[39m\"\"\"Context manager for acquiring a file.\"\"\"\u001b[39;00m\n\u001b[0;32m--> 199\u001b[0m     file, cached \u001b[39m=\u001b[39m \u001b[39mself\u001b[39;49m\u001b[39m.\u001b[39;49m_acquire_with_cache_info(needs_lock)\n\u001b[1;32m    200\u001b[0m     \u001b[39mtry\u001b[39;00m:\n\u001b[1;32m    201\u001b[0m         \u001b[39myield\u001b[39;00m file\n",
      "File \u001b[0;32m~/.cache/pypoetry/virtualenvs/zrive-ds-e6lejYny-py3.11/lib/python3.11/site-packages/xarray/backends/file_manager.py:217\u001b[0m, in \u001b[0;36mCachingFileManager._acquire_with_cache_info\u001b[0;34m(self, needs_lock)\u001b[0m\n\u001b[1;32m    215\u001b[0m     kwargs \u001b[39m=\u001b[39m kwargs\u001b[39m.\u001b[39mcopy()\n\u001b[1;32m    216\u001b[0m     kwargs[\u001b[39m\"\u001b[39m\u001b[39mmode\u001b[39m\u001b[39m\"\u001b[39m] \u001b[39m=\u001b[39m \u001b[39mself\u001b[39m\u001b[39m.\u001b[39m_mode\n\u001b[0;32m--> 217\u001b[0m file \u001b[39m=\u001b[39m \u001b[39mself\u001b[39;49m\u001b[39m.\u001b[39;49m_opener(\u001b[39m*\u001b[39;49m\u001b[39mself\u001b[39;49m\u001b[39m.\u001b[39;49m_args, \u001b[39m*\u001b[39;49m\u001b[39m*\u001b[39;49mkwargs)\n\u001b[1;32m    218\u001b[0m \u001b[39mif\u001b[39;00m \u001b[39mself\u001b[39m\u001b[39m.\u001b[39m_mode \u001b[39m==\u001b[39m \u001b[39m\"\u001b[39m\u001b[39mw\u001b[39m\u001b[39m\"\u001b[39m:\n\u001b[1;32m    219\u001b[0m     \u001b[39m# ensure file doesn't get overridden when opened again\u001b[39;00m\n\u001b[1;32m    220\u001b[0m     \u001b[39mself\u001b[39m\u001b[39m.\u001b[39m_mode \u001b[39m=\u001b[39m \u001b[39m\"\u001b[39m\u001b[39ma\u001b[39m\u001b[39m\"\u001b[39m\n",
      "File \u001b[0;32msrc/netCDF4/_netCDF4.pyx:2469\u001b[0m, in \u001b[0;36mnetCDF4._netCDF4.Dataset.__init__\u001b[0;34m()\u001b[0m\n",
      "File \u001b[0;32msrc/netCDF4/_netCDF4.pyx:2028\u001b[0m, in \u001b[0;36mnetCDF4._netCDF4._ensure_nc_success\u001b[0;34m()\u001b[0m\n",
      "\u001b[0;31mPermissionError\u001b[0m: [Errno 13] Permission denied: '/home/carlossi/zrive/zrive-ds-4q23-olive/data/nvdi/c_gls_NDVI_202006210000_GLOBE_PROBAV_V3.0.1.nc'"
     ]
    }
   ],
   "source": [
    "\n",
    "\n",
    "for link, folder in link_dict.items():\n",
    "\n",
    "    data_folder = f\"{main_data_folder}/{folder}\"\n",
    "    if os.path.exists(data_folder) is False:\n",
    "        os.mkdir(data_folder)\n",
    "\n",
    "    response = requests.get(link)\n",
    "\n",
    "    response.raise_for_status()\n",
    "\n",
    "    nc_files = response.text.split(\"\\n\")\n",
    "\n",
    "    nc_file = nc_files[0]\n",
    "\n",
    "    #for nc_file in nc_files:\n",
    "\n",
    "    filename = nc_file.split(\"/\")[-1]\n",
    "\n",
    "    if \".nc\" in filename:\n",
    "        output_filename = f'{data_folder}/{filename}'\n",
    "        download_nc_file_with_auth(nc_file, output_filename, username, password)\n",
    "\n",
    "        ds = xr.open_dataset(output_filename)\n",
    "\n",
    "        ds_slice = slice_ds(lat_min=36, lat_max=46, lon_min=-10, lon_max=3, ds=ds)\n",
    "\n",
    "\n",
    "        ds_slice.to_netcdf(output_filename)\n",
    "\n",
    "        ds.close()\n",
    "        ds_slice.to_netcdf(f\"{data_folder}/sample.nc\")\n",
    "\n",
    "    break\n",
    "\n",
    "\n",
    "\n"
   ]
  },
  {
   "cell_type": "code",
   "execution_count": 1,
   "metadata": {},
   "outputs": [],
   "source": []
  },
  {
   "cell_type": "code",
   "execution_count": 15,
   "metadata": {},
   "outputs": [],
   "source": [
    "config = CatalogueConfig.from_environment(CatalogueEnvironment.CGLS)\n",
    "catalogue = Catalogue(config)"
   ]
  },
  {
   "cell_type": "code",
   "execution_count": 59,
   "metadata": {},
   "outputs": [],
   "source": [
    "import pandas as pd\n",
    "from itertools import chain\n",
    "collections = catalogue.get_collections()\n",
    "\n",
    "rows = []\n",
    "for c in collections:\n",
    "    values_list = list(c.properties.values())\n",
    "    values_list.insert(0, c.id)\n",
    "    rows.append(values_list)\n",
    "\n",
    "column_values = list(c.properties.keys())\n",
    "column_values.insert(0, \"Identifier\")\n",
    "\n",
    "df = pd.DataFrame(data = rows, columns = column_values)\n",
    "# df.style.set_properties(**{'text-align': 'left'})\n"
   ]
  },
  {
   "cell_type": "code",
   "execution_count": 16,
   "metadata": {},
   "outputs": [
    {
     "data": {
      "text/html": [
       "<div>\n",
       "<style scoped>\n",
       "    .dataframe tbody tr th:only-of-type {\n",
       "        vertical-align: middle;\n",
       "    }\n",
       "\n",
       "    .dataframe tbody tr th {\n",
       "        vertical-align: top;\n",
       "    }\n",
       "\n",
       "    .dataframe thead th {\n",
       "        text-align: right;\n",
       "    }\n",
       "</style>\n",
       "<table border=\"1\" class=\"dataframe\">\n",
       "  <thead>\n",
       "    <tr style=\"text-align: right;\">\n",
       "      <th></th>\n",
       "      <th>Identifier</th>\n",
       "      <th>Description</th>\n",
       "    </tr>\n",
       "  </thead>\n",
       "  <tbody>\n",
       "    <tr>\n",
       "      <th>0</th>\n",
       "      <td>clms_global_albh_1km_v1_10daily_netcdf</td>\n",
       "      <td>Broadband Hemispherical Surface Albedo: global...</td>\n",
       "    </tr>\n",
       "    <tr>\n",
       "      <th>1</th>\n",
       "      <td>clms_global_aldh_1km_v1_10daily_netcdf</td>\n",
       "      <td>Broadband Hemispherical Surface Albedo: global...</td>\n",
       "    </tr>\n",
       "    <tr>\n",
       "      <th>2</th>\n",
       "      <td>clms_global_ba_300m_v3_daily_netcdf</td>\n",
       "      <td>Burnt Area: global daily (raster 300m)</td>\n",
       "    </tr>\n",
       "    <tr>\n",
       "      <th>3</th>\n",
       "      <td>clms_global_ba_300m_v3_monthly_netcdf</td>\n",
       "      <td>Burnt Area: global monthly (raster 300m)</td>\n",
       "    </tr>\n",
       "    <tr>\n",
       "      <th>4</th>\n",
       "      <td>clms_global_dmp_1km_v2_10daily_netcdf</td>\n",
       "      <td>Dry Matter Productivity: global 10-daily (rast...</td>\n",
       "    </tr>\n",
       "  </tbody>\n",
       "</table>\n",
       "</div>"
      ],
      "text/plain": [
       "                               Identifier  \\\n",
       "0  clms_global_albh_1km_v1_10daily_netcdf   \n",
       "1  clms_global_aldh_1km_v1_10daily_netcdf   \n",
       "2     clms_global_ba_300m_v3_daily_netcdf   \n",
       "3   clms_global_ba_300m_v3_monthly_netcdf   \n",
       "4   clms_global_dmp_1km_v2_10daily_netcdf   \n",
       "\n",
       "                                         Description  \n",
       "0  Broadband Hemispherical Surface Albedo: global...  \n",
       "1  Broadband Hemispherical Surface Albedo: global...  \n",
       "2             Burnt Area: global daily (raster 300m)  \n",
       "3           Burnt Area: global monthly (raster 300m)  \n",
       "4  Dry Matter Productivity: global 10-daily (rast...  "
      ]
     },
     "execution_count": 16,
     "metadata": {},
     "output_type": "execute_result"
    }
   ],
   "source": [
    "collections = catalogue.get_collections()\n",
    "rows = []\n",
    "for c in collections:\n",
    "    rows.append([c.id, c.properties['title']])\n",
    "\n",
    "df_catalogue = pd.DataFrame(data = rows, columns = ['Identifier', 'Description'])\n",
    "# df_catalogue.to_csv(\"catalogue_short.txt\", sep=\"\\t\")\n",
    "\n",
    "df_catalogue.head()"
   ]
  },
  {
   "cell_type": "code",
   "execution_count": 18,
   "metadata": {},
   "outputs": [
    {
     "data": {
      "text/html": [
       "<div>\n",
       "<style scoped>\n",
       "    .dataframe tbody tr th:only-of-type {\n",
       "        vertical-align: middle;\n",
       "    }\n",
       "\n",
       "    .dataframe tbody tr th {\n",
       "        vertical-align: top;\n",
       "    }\n",
       "\n",
       "    .dataframe thead th {\n",
       "        text-align: right;\n",
       "    }\n",
       "</style>\n",
       "<table border=\"1\" class=\"dataframe\">\n",
       "  <thead>\n",
       "    <tr style=\"text-align: right;\">\n",
       "      <th></th>\n",
       "      <th>Identifier</th>\n",
       "      <th>URL</th>\n",
       "      <th>Size (MB)</th>\n",
       "    </tr>\n",
       "  </thead>\n",
       "  <tbody>\n",
       "    <tr>\n",
       "      <th>0</th>\n",
       "      <td>c_gls_NDVI_201909010000_GLOBE_PROBAV_V2.2.1</td>\n",
       "      <td>https://globalland.vito.be/download/netcdf/ndv...</td>\n",
       "      <td>201.317039</td>\n",
       "    </tr>\n",
       "  </tbody>\n",
       "</table>\n",
       "</div>"
      ],
      "text/plain": [
       "                                    Identifier  \\\n",
       "0  c_gls_NDVI_201909010000_GLOBE_PROBAV_V2.2.1   \n",
       "\n",
       "                                                 URL   Size (MB)  \n",
       "0  https://globalland.vito.be/download/netcdf/ndv...  201.317039  "
      ]
     },
     "execution_count": 18,
     "metadata": {},
     "output_type": "execute_result"
    }
   ],
   "source": [
    "import pandas as pd\n",
    "import datetime as dt\n",
    "\n",
    "rows = []\n",
    "products = catalogue.get_products(\n",
    "    \"clms_global_ndvi_1km_v2_10daily_netcdf\",\n",
    "    start=dt.date(2019, 9, 1),\n",
    "    end=dt.date(2019, 9, 1),\n",
    "    bbox = [-10, 36, 3, 46]\n",
    ")\n",
    "\n",
    "for product in products:\n",
    "    rows.append([product.id, product.data[0].href, (product.data[0].length/(1024*1024))])\n",
    "\n",
    "df = pd.DataFrame(data = rows, columns = ['Identifier', 'URL', 'Size (MB)'])\n",
    "df.head()"
   ]
  },
  {
   "cell_type": "code",
   "execution_count": 32,
   "metadata": {},
   "outputs": [],
   "source": [
    "product_list = list(catalogue.get_products(\n",
    "    \"clms_global_ndvi_1km_v2_10daily_netcdf\",\n",
    "    start=dt.date(2019, 9, 1),\n",
    "    end=dt.date(2019, 9, 3),\n",
    "    bbox = [-10, 36, 3, 46]\n",
    "))\n",
    "\n",
    "# catalogue.download_products(product_list, './')"
   ]
  },
  {
   "cell_type": "code",
   "execution_count": 38,
   "metadata": {},
   "outputs": [
    {
     "name": "stdout",
     "output_type": "stream",
     "text": [
      "[-180.0044642857, -59.9955357143, 179.9955357143, 80.0044642857]\n"
     ]
    }
   ],
   "source": [
    "a = catalogue.get_products(\n",
    "    \"clms_global_ndvi_1km_v2_10daily_netcdf\",\n",
    "    start=dt.date(2019, 9, 1),\n",
    "    end=dt.date(2019, 9, 3),\n",
    "    bbox = [-100, -80, 3, 46]\n",
    "\n",
    ")\n",
    "\n",
    "for i in a:\n",
    "    print(i.bbox)"
   ]
  },
  {
   "cell_type": "code",
   "execution_count": 2,
   "metadata": {},
   "outputs": [],
   "source": [
    "import datetime\n",
    "import requests\n",
    "import matplotlib.pyplot as plt\n",
    "import numpy as np\n",
    "tsvBaseURL='https://services.terrascope.be/timeseries/v1.0/ts/'\n",
    "\n",
    "response = requests.get(tsvBaseURL) #this returns the layers that are available\n",
    "\n",
    "if response.status_code == 200:\n",
    "    layerlist = response.json()['layers']\n",
    "else:\n",
    "    raise IOError(response.text)"
   ]
  },
  {
   "cell_type": "code",
   "execution_count": 3,
   "metadata": {},
   "outputs": [],
   "source": [
    "layersSorted = sorted(layerlist, key=lambda k: k['name']) \n"
   ]
  },
  {
   "cell_type": "code",
   "execution_count": 4,
   "metadata": {},
   "outputs": [
    {
     "name": "stdout",
     "output_type": "stream",
     "text": [
      "BCGMS_DMP300                              348  2014-01-10T00:00:00 to 2023-09-30T00:00:00\n",
      "BCGMS_DMP300_MASKED                       298  2014-01-10T00:00:00 to 2022-04-10T00:00:00\n",
      "BCGMS_FAPAR300                            348  2014-01-10T00:00:00 to 2023-09-30T00:00:00\n",
      "BCGMS_FAPAR300_MASKED                     296  2014-01-10T00:00:00 to 2022-04-10T00:00:00\n",
      "BCGMS_NDVI300                             253  2014-01-01T00:00:00 to 2021-01-01T00:00:00\n",
      "BCGMS_NDVI300_MASKED                      253  2014-01-01T00:00:00 to 2021-01-01T00:00:00\n",
      "BIOPAR_FAPAR300_V1_GLOBAL                 816  2014-01-10T00:00:00 to 2023-11-10T00:00:00\n",
      "BIOPAR_FAPAR_V2_GLOBAL                    786  1998-09-10T00:00:00 to 2020-06-30T00:00:00\n",
      "BIOPAR_LAI300_V1_GLOBAL                   812  2014-01-10T00:00:00 to 2023-11-10T00:00:00\n",
      "BIOPAR_LAI_V2_GLOBAL                      786  1998-09-10T00:00:00 to 2020-06-30T00:00:00\n",
      "BIOPAR_NDVI300_V2_GLOBAL                  121  2020-07-01T00:00:00 to 2023-11-01T00:00:00\n",
      "BIOPAR_NDVI_V2_GLOBAL                     838  1998-04-01T00:00:00 to 2021-01-01T00:00:00\n",
      "BIOPAR_NDVI_V3_GLOBAL                     812  2014-01-10T00:00:00 to 2023-11-10T00:00:00\n",
      "CGLS_LC100_COV_LCCS                      1708  2015-07-04T00:00:00 to 2020-11-26T00:00:00\n",
      "CHIRPS_RAINFALL                           795  1998-01-11T00:00:00 to 2020-08-21T00:00:00\n",
      "FSTEP_SENTINEL2_FAPAR                     150  2016-01-05T00:00:00 to 2019-02-08T00:00:00\n",
      "FSTEP_SENTINEL2_FAPAR_MASK                154  2016-01-05T00:00:00 to 2019-02-08T00:00:00\n",
      "FSTEP_SENTINEL2_FCOVER                    149  2016-01-05T00:00:00 to 2019-02-08T00:00:00\n",
      "FSTEP_SENTINEL2_FCOVER_MASK               154  2016-01-05T00:00:00 to 2019-02-08T00:00:00\n",
      "FSTEP_SENTINEL2_LAI                       149  2016-01-05T00:00:00 to 2019-02-08T00:00:00\n",
      "FSTEP_SENTINEL2_LAI_MASK                  154  2016-01-05T00:00:00 to 2019-02-08T00:00:00\n",
      "FSTEP_SENTINEL2_NDVI                      149  2016-01-05T00:00:00 to 2019-02-08T00:00:00\n",
      "FSTEP_SENTINEL2_NDVI_MASK                 154  2016-01-05T00:00:00 to 2019-02-08T00:00:00\n",
      "FSTEP_WEEKLY_METEO_AVG_TEMPERATURE        111  2016-01-01T00:00:00 to 2018-02-05T00:00:00\n",
      "FSTEP_WEEKLY_METEO_RAINFALL               109  2016-01-01T08:00:00 to 2018-01-22T08:00:00\n",
      "PROBAV_L3_S10_TOC_NDVI_333M               290  2013-10-11T00:00:00 to 2021-10-21T00:00:00\n",
      "S1_GRD_GAMMA0                            2967  2015-01-03T00:00:00 to 2023-11-19T00:00:00\n",
      "S1_GRD_SIGMA0_ASCENDING                  2967  2015-01-03T00:00:00 to 2023-11-19T00:00:00\n",
      "S1_GRD_SIGMA0_ASCENDING_ANGLE            2967  2015-01-03T00:00:00 to 2023-11-19T00:00:00\n",
      "S1_GRD_SIGMA0_ASCENDING_VH               2967  2015-01-03T00:00:00 to 2023-11-19T00:00:00\n",
      "S1_GRD_SIGMA0_ASCENDING_VV               2967  2015-01-03T00:00:00 to 2023-11-19T00:00:00\n",
      "S1_GRD_SIGMA0_DESCENDING                 2967  2015-01-03T00:00:00 to 2023-11-19T00:00:00\n",
      "S1_GRD_SIGMA0_DESCENDING_ANGLE           2967  2015-01-03T00:00:00 to 2023-11-19T00:00:00\n",
      "S1_GRD_SIGMA0_DESCENDING_VH              2967  2015-01-03T00:00:00 to 2023-11-19T00:00:00\n",
      "S1_GRD_SIGMA0_DESCENDING_VV              2967  2015-01-03T00:00:00 to 2023-11-19T00:00:00\n",
      "S2_CLOUDCOVER_GLOBAL                     2946  2015-07-04T00:00:00 to 2023-11-20T00:00:00\n",
      "S2_CLOUDCOVER_GLOBAL2                    2946  2015-07-04T00:00:00 to 2023-11-20T00:00:00\n",
      "S2_CLOUDCOVER_V200_FILE                  2946  2015-07-04T00:00:00 to 2023-11-20T00:00:00\n",
      "S2_FAPAR_FILE                            2946  2015-07-04T00:00:00 to 2023-11-20T00:00:00\n",
      "S2_SCENECLASSIFICATION                   2946  2015-07-04T00:00:00 to 2023-11-20T00:00:00\n",
      "S2_SCENECLASSIFICATION_V200_FILE         2946  2015-07-04T00:00:00 to 2023-11-20T00:00:00\n",
      "TERRASCOPE_S1_SLC_COHERENCE_V1_VH        2270  2016-09-26T00:00:00 to 2023-08-27T00:00:00\n",
      "TERRASCOPE_S1_SLC_COHERENCE_V1_VV        2270  2016-09-26T00:00:00 to 2023-08-27T00:00:00\n",
      "TERRASCOPE_S2_FAPAR_V2                   2946  2015-07-04T00:00:00 to 2023-11-20T00:00:00\n",
      "TERRASCOPE_S2_FCOVER_V2                  2946  2015-07-04T00:00:00 to 2023-11-20T00:00:00\n",
      "TERRASCOPE_S2_LAI_V2                     2946  2015-07-04T00:00:00 to 2023-11-20T00:00:00\n",
      "TERRASCOPE_S2_NDVI_V2                    2946  2015-07-04T00:00:00 to 2023-11-20T00:00:00\n",
      "TERRASCOPE_S5P_L3_CO_TD_V1               1847  2018-04-30T00:00:00 to 2023-05-16T00:00:00\n",
      "TERRASCOPE_S5P_L3_CO_TM_V1                 61  2018-04-01T00:00:00 to 2023-04-01T00:00:00\n",
      "TERRASCOPE_S5P_L3_NO2_TD_V1              1852  2018-04-30T00:00:00 to 2023-05-16T00:00:00\n",
      "TERRASCOPE_S5P_L3_NO2_TM_V1                61  2018-04-01T00:00:00 to 2023-04-01T00:00:00\n",
      "VMM_CHL                                   142  2020-04-02T10:36:19 to 2020-09-27T10:50:31\n",
      "VMM_CLOUDCOVER                            143  2020-04-02T10:36:19 to 2020-09-27T10:50:31\n",
      "VMM_NDAVI                                 143  2020-04-02T10:36:19 to 2020-09-27T10:50:31\n",
      "VMM_WTZ                                     1  2020-10-01T00:00:00 to 2020-10-01T00:00:00\n",
      ">>> 55 layers with data\n",
      "Layers with no dates\n",
      "BCGMS_NDVI300_MASKED_FILE\n",
      "DMC_FAPAR\n",
      "FSTEP_METEO_AVG_TEMPERATURE\n",
      "FSTEP_METEO_MAX_TEMPERATURE\n",
      "FSTEP_METEO_MIN_TEMPERATURE\n",
      "FSTEP_METEO_RAINFALL\n",
      ">>> 6 layers without data\n"
     ]
    }
   ],
   "source": [
    "count=0\n",
    "for l in layersSorted:\n",
    "    if len(l['dates'])>0:\n",
    "        count=count+1\n",
    "        print(l['name'].ljust(40), '{0:4d} '.format(len(l['dates'])), min(l['dates'])[:19], 'to', max(l['dates'])[:19])\n",
    "print(\">>>\", count, 'layers with data')\n",
    "print('Layers with no dates')\n",
    "count=0\n",
    "for l in layersSorted:\n",
    "    if len(l['dates'])==0:\n",
    "        count=count+1\n",
    "        print(l['name'])\n",
    "print(\">>>\", count, 'layers without data')"
   ]
  },
  {
   "cell_type": "code",
   "execution_count": 5,
   "metadata": {},
   "outputs": [],
   "source": [
    "TSlayers = [\"BIOPAR_FAPAR_V2_GLOBAL\",\n",
    "        \"BIOPAR_NDVI_V2_GLOBAL\"]\n",
    "\n",
    "\n",
    "\n",
    "def getTimeseriesForPoint(covId,\n",
    "                          tsvBaseURL='https://services.terrascope.be/timeseries/v1.0/ts/',\n",
    "                          start=datetime.date(2016,1,1),\n",
    "                          end=datetime.date(2030,12,31),\n",
    "                          lat=38.288706,\n",
    "                          lon=-4.324180,\n",
    "                          printURL=False):\n",
    "\n",
    "    tsURL = tsvBaseURL + covId + '/point'\n",
    "    payload = {\n",
    "            'lon': str(lon),\n",
    "            'lat': str(lat),\n",
    "            'startDate': start.strftime('%Y-%m-%d'),\n",
    "            'endDate': end.strftime('%Y-%m-%d')\n",
    "    }\n",
    "    if printURL:\n",
    "        print(tsURL,payload)\n",
    "    response=requests.get(tsURL,params=payload)\n",
    "    if response.status_code == 200:\n",
    "        timeseries = response.json()['results']\n",
    "        return(timeseries)\n",
    "    else:\n",
    "        return([])\n",
    "    "
   ]
  },
  {
   "cell_type": "code",
   "execution_count": 6,
   "metadata": {},
   "outputs": [
    {
     "name": "stdout",
     "output_type": "stream",
     "text": [
      "layer                                    points\n",
      "---------------------------------------  ------\n",
      "BIOPAR_FAPAR_V2_GLOBAL                      108\n",
      "BIOPAR_NDVI_V2_GLOBAL                       108\n"
     ]
    }
   ],
   "source": [
    "print('layer'.ljust(40), 'points')\n",
    "print('---------------------------------------  ------')\n",
    "\n",
    "tss = []\n",
    "for l in TSlayers:\n",
    "    ts = getTimeseriesForPoint(covId=l,\n",
    "                               start=datetime.date(2006,1,1),\n",
    "                               end = datetime.date(2009,1,1),\n",
    "                               lat=38.288706,\n",
    "                               lon=-4.324180,\n",
    "                               printURL=False)\n",
    "    \n",
    "    tss.append(ts)\n",
    "\n",
    "    print(l.ljust(40),'{0:6d}'.format(len(ts)))"
   ]
  },
  {
   "cell_type": "code",
   "execution_count": 9,
   "metadata": {},
   "outputs": [
    {
     "name": "stdout",
     "output_type": "stream",
     "text": [
      "date        average\n",
      "----------  -------\n",
      "2006-01-01   0.6400\n",
      "2006-01-11   0.6400\n",
      "2006-01-21   0.6120\n",
      "2006-02-01   0.6240\n",
      "2006-02-11   0.6440\n",
      "2006-02-21   0.6160\n",
      "2006-03-01   0.6200\n",
      "2006-03-11   0.6560\n",
      "2006-03-21   0.7200\n",
      "2006-04-01   0.7240\n",
      "2006-04-11   0.7360\n",
      "2006-04-21   0.7000\n",
      "2006-05-01   0.6960\n",
      "2006-05-11   0.6080\n",
      "2006-05-21   0.5400\n",
      "2006-06-01   0.4640\n",
      "2006-06-11   0.4000\n",
      "2006-06-21   0.4240\n",
      "2006-07-01   0.4080\n",
      "2006-07-11   0.4000\n",
      "2006-07-21   0.3960\n",
      "2006-08-01   0.3960\n",
      "2006-08-11   0.4160\n",
      "2006-08-21   0.4000\n",
      "2006-09-01   0.3720\n",
      "2006-09-11   0.4080\n",
      "2006-09-21   0.4720\n",
      "2006-10-01   0.4680\n",
      "2006-10-11   0.4440\n",
      "2006-10-21   0.5360\n",
      "2006-11-01   0.6120\n",
      "2006-11-11   0.6400\n",
      "2006-11-21   0.6320\n",
      "2006-12-01   0.6400\n",
      "2006-12-11   0.6640\n",
      "2006-12-21   0.6400\n",
      "2007-01-01   0.6440\n",
      "2007-01-11   0.6720\n",
      "2007-01-21   0.4240\n",
      "2007-02-01   0.5680\n",
      "2007-02-11   0.6160\n",
      "2007-02-21   0.6400\n",
      "2007-03-01   0.6400\n",
      "2007-03-11   0.6040\n",
      "2007-03-21   0.6520\n",
      "2007-04-11   0.6360\n",
      "2007-04-21   0.6160\n",
      "2007-05-01   0.6600\n",
      "2007-05-11   0.6480\n",
      "2007-05-21   0.6240\n",
      "2007-06-01   0.5600\n",
      "2007-06-11   0.5200\n",
      "2007-06-21   0.4760\n",
      "2007-07-01   0.4640\n",
      "2007-07-11   0.4440\n",
      "2007-07-21   0.4440\n",
      "2007-08-01   0.4080\n",
      "2007-08-11   0.4200\n",
      "2007-08-21   0.4120\n",
      "2007-09-01   0.4200\n",
      "2007-09-11   0.4200\n",
      "2007-09-21   0.4320\n",
      "2007-10-01   0.5400\n",
      "2007-10-11   0.4920\n",
      "2007-10-21   0.5360\n",
      "2007-11-01   0.5440\n",
      "2007-11-11   0.5200\n",
      "2007-11-21   0.5480\n",
      "2007-12-01   0.5760\n",
      "2007-12-11   0.5840\n",
      "2007-12-21   0.5520\n",
      "2008-01-11   0.5920\n",
      "2008-01-21   0.6040\n",
      "2008-02-01   0.5840\n",
      "2008-02-11   0.5840\n",
      "2008-02-21   0.5160\n",
      "2008-03-01   0.5960\n",
      "2008-03-11   0.5720\n",
      "2008-03-21   0.5920\n",
      "2008-04-01   0.5560\n",
      "2008-04-11   0.4960\n",
      "2008-04-21   0.6000\n",
      "2008-05-01   0.6000\n",
      "2008-05-11   0.3120\n",
      "2008-05-21   0.5720\n",
      "2008-06-01   0.6040\n",
      "2008-06-11   0.5000\n",
      "2008-06-21   0.4800\n",
      "2008-07-01   0.4440\n",
      "2008-07-11   0.4080\n",
      "2008-07-21   0.4280\n",
      "2008-08-01   0.4400\n",
      "2008-08-11   0.4320\n",
      "2008-08-21   0.3880\n",
      "2008-09-01   0.4200\n",
      "2008-09-11   0.4280\n",
      "2008-09-21   0.4160\n",
      "2008-10-01   0.4640\n",
      "2008-10-11   0.5680\n",
      "2008-10-21   0.6200\n",
      "2008-11-01   0.6400\n",
      "2008-11-11   0.6280\n",
      "2008-11-21   0.6280\n",
      "2008-12-01   0.6160\n",
      "2008-12-11   0.6280\n",
      "2008-12-21   0.6400\n"
     ]
    }
   ],
   "source": [
    "print('date        average')\n",
    "print('----------  -------')\n",
    "for d in ts:\n",
    "    if d['result']['validCount']>0:\n",
    "        print(d['date'], '  {0:.4f}'.format(d['result']['average']))"
   ]
  },
  {
   "cell_type": "code",
   "execution_count": 8,
   "metadata": {},
   "outputs": [
    {
     "name": "stdout",
     "output_type": "stream",
     "text": [
      "<class 'pandas.core.frame.DataFrame'>\n",
      "RangeIndex: 5239 entries, 0 to 5238\n",
      "Data columns (total 7 columns):\n",
      " #   Column                  Non-Null Count  Dtype         \n",
      "---  ------                  --------------  -----         \n",
      " 0   Unnamed: 0              5239 non-null   int64         \n",
      " 1   codparcela              5239 non-null   object        \n",
      " 2   min_fecha               5239 non-null   datetime64[ns]\n",
      " 3   max_fecha               5239 non-null   datetime64[ns]\n",
      " 4   102_coordenada_x_(utm)  5042 non-null   float64       \n",
      " 5   103_coordenada_y_(utm)  5041 non-null   float64       \n",
      " 6   days                    5239 non-null   int64         \n",
      "dtypes: datetime64[ns](2), float64(2), int64(2), object(1)\n",
      "memory usage: 286.6+ KB\n"
     ]
    }
   ],
   "source": [
    "df_parcelas = pd.read_csv(\"parcelas.txt\", sep=\"\\t\", parse_dates=[\"min_fecha\", \"max_fecha\"])\n"
   ]
  },
  {
   "cell_type": "code",
   "execution_count": 52,
   "metadata": {},
   "outputs": [
    {
     "data": {
      "text/plain": [
       "945.0"
      ]
     },
     "execution_count": 52,
     "metadata": {},
     "output_type": "execute_result"
    }
   ],
   "source": [
    "df_parcelas[\"days\"].quantile(0.5)"
   ]
  },
  {
   "cell_type": "code",
   "execution_count": 47,
   "metadata": {},
   "outputs": [
    {
     "data": {
      "text/plain": [
       "<Axes: >"
      ]
     },
     "execution_count": 47,
     "metadata": {},
     "output_type": "execute_result"
    },
    {
     "data": {
      "image/png": "[encoded data removed]",
      "text/plain": [
       "<Figure size 640x480 with 1 Axes>"
      ]
     },
     "metadata": {},
     "output_type": "display_data"
    }
   ],
   "source": [
    "df_parcelas[\"102_coordenada_x_(utm)\"].value_counts().hist()"
   ]
  }
 ],
 "metadata": {
  "kernelspec": {
   "display_name": "zrive-ds-e6lejYny-py3.11",
   "language": "python",
   "name": "python3"
  },
  "language_info": {
   "codemirror_mode": {
    "name": "ipython",
    "version": 3
   },
   "file_extension": ".py",
   "mimetype": "text/x-python",
   "name": "python",
   "nbconvert_exporter": "python",
   "pygments_lexer": "ipython3",
   "version": "3.11.0"
  }
 },
 "nbformat": 4,
 "nbformat_minor": 2
}
