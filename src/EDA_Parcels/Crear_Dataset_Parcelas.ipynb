{
 "cells": [
  {
   "cell_type": "code",
   "execution_count": 1,
   "metadata": {},
   "outputs": [],
   "source": [
    "import pandas as pd\n",
    "\n",
    "pd.set_option(\"display.max_rows\", 100)\n",
    "pd.set_option(\"display.max_columns\", 100)"
   ]
  },
  {
   "cell_type": "code",
   "execution_count": 2,
   "metadata": {},
   "outputs": [],
   "source": [
    "df = pd.read_parquet(\"muestreos_parcelas.parquet\")\n",
    "\n",
    "estados = [\n",
    "    \"estado_fenologico_1\",\n",
    "    \"estado_fenologico_2\",\n",
    "    \"estado_fenologico_3\",\n",
    "    \"estado_fenologico_4\",\n",
    "    \"estado_fenologico_5\",\n",
    "    \"estado_fenologico_6\",\n",
    "    \"estado_fenologico_7\",\n",
    "    \"estado_fenologico_8\",\n",
    "    \"estado_fenologico_9\",\n",
    "    \"estado_fenologico_10\",\n",
    "    \"estado_fenologico_11\",\n",
    "    \"estado_fenologico_12\",\n",
    "    \"estado_fenologico_13\",\n",
    "    \"estado_fenologico_14\",\n",
    "]"
   ]
  },
  {
   "cell_type": "code",
   "execution_count": 3,
   "metadata": {},
   "outputs": [],
   "source": [
    "def find_estado_with_value_two(row) -> int:\n",
    "    \"\"\"\n",
    "    Returns numero del siguiente etado (yt+1). (e.g., 13)\n",
    "    \"\"\"\n",
    "    for column in row.index:\n",
    "        if row[column] == 2:\n",
    "            number_growth_stage = int(column.split(\"_\")[-1])\n",
    "            return number_growth_stage\n",
    "\n",
    "\n",
    "def get_valid_dataset(df: pd.DataFrame(), max_days_till_next_date: int) -> pd.DataFrame():\n",
    "    \n",
    "    # Removing null and filling empty estados with 0\n",
    "    df = df.dropna(subset=estados, how=\"all\")\n",
    "    df = df.dropna(subset=[\"codparcela\"])\n",
    "    df[estados] = df[estados].fillna(0)\n",
    "\n",
    "    #Filtering Dataset to keep rows only with one unique 2\n",
    "    df[\"count_2s\"] = df[estados].eq(2).sum(axis=1)\n",
    "    df = df[df.count_2s == 1]\n",
    "\n",
    "    # Sorting by date\n",
    "    df[\"fecha\"] = pd.to_datetime(df[\"fecha\"])\n",
    "    df.sort_values(by=\"fecha\", inplace=True)\n",
    "\n",
    "    # Creating a column to display the number of days till the next observation\n",
    "    df[\"next_date\"] = df.groupby(\"codparcela\", observed=True)[\"fecha\"].shift(-1)\n",
    "    df[\"days_until_next_visit\"] = (df[\"next_date\"] - df[\"fecha\"]).dt.days\n",
    "\n",
    "    # Creating a column to display the next estado_fenológico (yt+1)\n",
    "    df[\"estado_actual\"] = df[estados].apply(find_estado_with_value_two, axis=1)\n",
    "    df[\"next_estado\"] = df.groupby(\"codparcela\", observed=True)[\"estado_actual\"].shift(-1)\n",
    "\n",
    "    # Removing the parcels with only one entry and the last entry for every parcel\n",
    "    df = df.dropna(subset=[\"days_until_next_visit\"])  # 5150 entries removed\n",
    "\n",
    "    #Changing datatypes\n",
    "    df[\"days_until_next_visit\"] = df[\"days_until_next_visit\"].astype(\"int16\")\n",
    "    df[\"next_estado\"] = df[\"next_estado\"].astype(\"int8\")\n",
    "    df[estados] = df[estados].astype(\"int8\")\n",
    "\n",
    "    # Filtering the max days\n",
    "    df = df[df[\"days_until_next_visit\"] < max_days_till_next_date]\n",
    "\n",
    "    excluded_columns = ['estado_actual','count_2s', 'next_date']\n",
    "\n",
    "    return df.loc[:, [i for i in df.columns if i not in excluded_columns]]\n"
   ]
  },
  {
   "cell_type": "code",
   "execution_count": 4,
   "metadata": {},
   "outputs": [],
   "source": [
    "df_new = get_valid_dataset(df, 10)"
   ]
  },
  {
   "cell_type": "code",
   "execution_count": 5,
   "metadata": {},
   "outputs": [
    {
     "data": {
      "text/plain": [
       "codparcela\n",
       "001-00048-00-50    172\n",
       "019-00160-00-10    112\n",
       "075-00019-00-00    107\n",
       "014-00018-00-00    106\n",
       "005-00044-00-00    101\n",
       "                  ... \n",
       "009-00107-01-01      0\n",
       "009-00106-03-01      0\n",
       "009-00106-02-00      0\n",
       "009-00106-00-00      0\n",
       "015-00013-01         0\n",
       "Name: count, Length: 5239, dtype: int64"
      ]
     },
     "execution_count": 5,
     "metadata": {},
     "output_type": "execute_result"
    }
   ],
   "source": [
    "df_new[df_new[\"102_coordenada_x_(utm)\"].isnull()].codparcela.value_counts()"
   ]
  },
  {
   "cell_type": "code",
   "execution_count": 6,
   "metadata": {},
   "outputs": [
    {
     "data": {
      "text/plain": [
       "102_coordenada_x_(utm)\n",
       "435359.0    40\n",
       "435109.0    20\n",
       "Name: count, dtype: int64"
      ]
     },
     "execution_count": 6,
     "metadata": {},
     "output_type": "execute_result"
    }
   ],
   "source": [
    "df_new[df_new['codparcela']=='001-00048-00-50'][\"102_coordenada_x_(utm)\"].value_counts()"
   ]
  }
 ],
 "metadata": {
  "kernelspec": {
   "display_name": "zrive-ds-OdzsC9YT-py3.11",
   "language": "python",
   "name": "python3"
  },
  "language_info": {
   "codemirror_mode": {
    "name": "ipython",
    "version": 3
   },
   "file_extension": ".py",
   "mimetype": "text/x-python",
   "name": "python",
   "nbconvert_exporter": "python",
   "pygments_lexer": "ipython3",
   "version": "3.11.5"
  }
 },
 "nbformat": 4,
 "nbformat_minor": 2
}
