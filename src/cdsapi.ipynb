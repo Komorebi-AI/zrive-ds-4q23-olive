{
 "cells": [
  {
   "cell_type": "code",
   "execution_count": 2,
   "metadata": {},
   "outputs": [
    {
     "name": "stderr",
     "output_type": "stream",
     "text": [
      "2023-11-19 14:17:58,771 INFO Welcome to the CDS\n",
      "2023-11-19 14:17:58,773 INFO Sending request to https://cds.climate.copernicus.eu/api/v2/resources/reanalysis-era5-land-monthly-means\n",
      "2023-11-19 14:17:58,865 INFO Request is queued\n",
      "2023-11-19 18:21:02,980 INFO Request is completed\n",
      "2023-11-19 18:21:03,114 INFO Downloading https://download-0012-clone.copernicus-climate.eu/cache-compute-0012/cache/data5/adaptor.mars.internal-1700417973.2799149-17831-10-6e2c5762-c0c0-4d48-9210-602fb9a557b5.zip to download.netcdf.zip (502M)\n",
      "2023-11-19 18:22:47,287 INFO Download rate 4.8M/s  \n"
     ]
    },
    {
     "data": {
      "text/plain": [
       "Result(content_length=526367649,content_type=application/zip,location=https://download-0012-clone.copernicus-climate.eu/cache-compute-0012/cache/data5/adaptor.mars.internal-1700417973.2799149-17831-10-6e2c5762-c0c0-4d48-9210-602fb9a557b5.zip)"
      ]
     },
     "execution_count": 2,
     "metadata": {},
     "output_type": "execute_result"
    }
   ],
   "source": [
    "import cdsapi\n",
    "\n",
    "c = cdsapi.Client(url=\"https://cds.climate.copernicus.eu/api/v2\", key=\"267758:1fe9aae3-582c-46cb-8b06-2ee01e3247ac\")\n",
    "\n",
    "c.retrieve(\n",
    "    'reanalysis-era5-land-monthly-means',\n",
    "    {\n",
    "        'year': [\n",
    "            '2006', '2007', '2008',\n",
    "            '2009', '2010', '2011',\n",
    "            '2012', '2013', '2014',\n",
    "            '2015', '2016', '2017',\n",
    "            '2018', '2019', '2020',\n",
    "            '2021',\n",
    "        ],\n",
    "        'month': [\n",
    "            '01', '02', '03',\n",
    "            '04', '05', '06',\n",
    "            '07', '08', '09',\n",
    "            '10', '11', '12',\n",
    "        ],\n",
    "        'time': [\n",
    "            '00:00', '01:00', '02:00',\n",
    "            '03:00', '04:00', '05:00',\n",
    "            '06:00', '07:00', '08:00',\n",
    "            '09:00', '10:00', '11:00',\n",
    "            '12:00', '13:00', '14:00',\n",
    "            '15:00', '16:00', '17:00',\n",
    "            '18:00', '19:00', '20:00',\n",
    "            '21:00', '22:00', '23:00',\n",
    "        ],\n",
    "        'area': [\n",
    "            46, -10, 36,\n",
    "            3,\n",
    "        ],\n",
    "        'variable': [\n",
    "            'leaf_area_index_high_vegetation', 'leaf_area_index_low_vegetation', 'soil_temperature_level_1',\n",
    "            'soil_temperature_level_2', 'soil_temperature_level_3', 'soil_temperature_level_4',\n",
    "            'volumetric_soil_water_layer_1', 'volumetric_soil_water_layer_2', 'volumetric_soil_water_layer_3',\n",
    "            'volumetric_soil_water_layer_4',\n",
    "        ],\n",
    "        'format': 'netcdf.zip',\n",
    "    },\n",
    "    'download.netcdf.zip')\n"
   ]
  }
 ],
 "metadata": {
  "kernelspec": {
   "display_name": "zrive-ds-e6lejYny-py3.11",
   "language": "python",
   "name": "python3"
  },
  "language_info": {
   "codemirror_mode": {
    "name": "ipython",
    "version": 3
   },
   "file_extension": ".py",
   "mimetype": "text/x-python",
   "name": "python",
   "nbconvert_exporter": "python",
   "pygments_lexer": "ipython3",
   "version": "3.11.0"
  }
 },
 "nbformat": 4,
 "nbformat_minor": 2
}
